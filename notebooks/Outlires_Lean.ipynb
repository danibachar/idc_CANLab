{
 "cells": [
  {
   "cell_type": "code",
   "execution_count": 1,
   "metadata": {},
   "outputs": [
    {
     "name": "stdout",
     "output_type": "stream",
     "text": [
      "fatal: destination path 'idc_CANLab' already exists and is not an empty directory.\r\n"
     ]
    }
   ],
   "source": [
    "!git clone https://github.com/danibachar/idc_CANLab.git"
   ]
  },
  {
   "cell_type": "code",
   "execution_count": 2,
   "metadata": {},
   "outputs": [
    {
     "name": "stdout",
     "output_type": "stream",
     "text": [
      "Requirement already satisfied: bokeh==1.4.0 in /usr/local/lib/python3.7/site-packages (from -r idc_CANLab/requirements.txt (line 1)) (1.4.0)\n",
      "Requirement already satisfied: ipywidgets in /usr/local/lib/python3.7/site-packages (from -r idc_CANLab/requirements.txt (line 2)) (7.5.1)\n",
      "Requirement already satisfied: matplotlib==3.1.3 in /usr/local/lib/python3.7/site-packages (from -r idc_CANLab/requirements.txt (line 3)) (3.1.3)\n",
      "Requirement already satisfied: google-cloud-storage==1.29.0 in /usr/local/lib/python3.7/site-packages (from -r idc_CANLab/requirements.txt (line 4)) (1.29.0)\n",
      "Requirement already satisfied: google-colab==1.0.0 in /usr/local/lib/python3.7/site-packages (from -r idc_CANLab/requirements.txt (line 5)) (1.0.0)\n",
      "Requirement already satisfied: pandas==1.0.5 in /usr/local/lib/python3.7/site-packages (from -r idc_CANLab/requirements.txt (line 6)) (1.0.5)\n",
      "Requirement already satisfied: tornado>=4.3 in /usr/local/lib/python3.7/site-packages (from bokeh==1.4.0->-r idc_CANLab/requirements.txt (line 1)) (6.0.4)\n",
      "Requirement already satisfied: Jinja2>=2.7 in /usr/local/lib/python3.7/site-packages (from bokeh==1.4.0->-r idc_CANLab/requirements.txt (line 1)) (2.10.3)\n",
      "Requirement already satisfied: six>=1.5.2 in /Users/danielbachar/Library/Python/3.7/lib/python/site-packages (from bokeh==1.4.0->-r idc_CANLab/requirements.txt (line 1)) (1.13.0)\n",
      "Requirement already satisfied: packaging>=16.8 in /usr/local/lib/python3.7/site-packages (from bokeh==1.4.0->-r idc_CANLab/requirements.txt (line 1)) (20.4)\n",
      "Requirement already satisfied: python-dateutil>=2.1 in /usr/local/lib/python3.7/site-packages (from bokeh==1.4.0->-r idc_CANLab/requirements.txt (line 1)) (2.8.1)\n",
      "Requirement already satisfied: numpy>=1.7.1 in /usr/local/lib/python3.7/site-packages (from bokeh==1.4.0->-r idc_CANLab/requirements.txt (line 1)) (1.19.0)\n",
      "Requirement already satisfied: PyYAML>=3.10 in /usr/local/lib/python3.7/site-packages (from bokeh==1.4.0->-r idc_CANLab/requirements.txt (line 1)) (5.1.2)\n",
      "Requirement already satisfied: pillow>=4.0 in /usr/local/lib/python3.7/site-packages (from bokeh==1.4.0->-r idc_CANLab/requirements.txt (line 1)) (7.2.0)\n",
      "Requirement already satisfied: ipykernel>=4.5.1 in /usr/local/lib/python3.7/site-packages (from ipywidgets->-r idc_CANLab/requirements.txt (line 2)) (5.1.4)\n",
      "Requirement already satisfied: widgetsnbextension~=3.5.0 in /usr/local/lib/python3.7/site-packages (from ipywidgets->-r idc_CANLab/requirements.txt (line 2)) (3.5.1)\n",
      "Requirement already satisfied: nbformat>=4.2.0 in /usr/local/lib/python3.7/site-packages (from ipywidgets->-r idc_CANLab/requirements.txt (line 2)) (5.0.4)\n",
      "Requirement already satisfied: traitlets>=4.3.1 in /usr/local/lib/python3.7/site-packages (from ipywidgets->-r idc_CANLab/requirements.txt (line 2)) (4.3.3)\n",
      "Requirement already satisfied: ipython>=4.0.0; python_version >= \"3.3\" in /usr/local/lib/python3.7/site-packages (from ipywidgets->-r idc_CANLab/requirements.txt (line 2)) (7.13.0)\n",
      "Requirement already satisfied: pyparsing!=2.0.4,!=2.1.2,!=2.1.6,>=2.0.1 in /usr/local/lib/python3.7/site-packages (from matplotlib==3.1.3->-r idc_CANLab/requirements.txt (line 3)) (2.4.6)\n",
      "Requirement already satisfied: cycler>=0.10 in /usr/local/lib/python3.7/site-packages (from matplotlib==3.1.3->-r idc_CANLab/requirements.txt (line 3)) (0.10.0)\n",
      "Requirement already satisfied: kiwisolver>=1.0.1 in /usr/local/lib/python3.7/site-packages (from matplotlib==3.1.3->-r idc_CANLab/requirements.txt (line 3)) (1.1.0)\n",
      "Requirement already satisfied: google-auth<2.0dev,>=1.11.0 in /usr/local/lib/python3.7/site-packages (from google-cloud-storage==1.29.0->-r idc_CANLab/requirements.txt (line 4)) (1.18.0)\n",
      "Requirement already satisfied: google-cloud-core<2.0dev,>=1.2.0 in /usr/local/lib/python3.7/site-packages (from google-cloud-storage==1.29.0->-r idc_CANLab/requirements.txt (line 4)) (1.3.0)\n",
      "Requirement already satisfied: google-resumable-media<0.6dev,>=0.5.0 in /usr/local/lib/python3.7/site-packages (from google-cloud-storage==1.29.0->-r idc_CANLab/requirements.txt (line 4)) (0.5.0)\n",
      "Requirement already satisfied: notebook~=5.2.0 in /usr/local/lib/python3.7/site-packages (from google-colab==1.0.0->-r idc_CANLab/requirements.txt (line 5)) (5.2.2)\n",
      "Requirement already satisfied: portpicker~=1.2.0 in /usr/local/lib/python3.7/site-packages (from google-colab==1.0.0->-r idc_CANLab/requirements.txt (line 5)) (1.2.0)\n",
      "Requirement already satisfied: requests~=2.21.0 in /usr/local/lib/python3.7/site-packages (from google-colab==1.0.0->-r idc_CANLab/requirements.txt (line 5)) (2.21.0)\n",
      "Requirement already satisfied: pytz>=2017.2 in /usr/local/lib/python3.7/site-packages (from pandas==1.0.5->-r idc_CANLab/requirements.txt (line 6)) (2019.3)\n",
      "Requirement already satisfied: MarkupSafe>=0.23 in /usr/local/lib/python3.7/site-packages (from Jinja2>=2.7->bokeh==1.4.0->-r idc_CANLab/requirements.txt (line 1)) (1.1.1)\n",
      "Requirement already satisfied: jupyter-client in /usr/local/lib/python3.7/site-packages (from ipykernel>=4.5.1->ipywidgets->-r idc_CANLab/requirements.txt (line 2)) (6.1.0)\n",
      "Requirement already satisfied: appnope; platform_system == \"Darwin\" in /usr/local/lib/python3.7/site-packages (from ipykernel>=4.5.1->ipywidgets->-r idc_CANLab/requirements.txt (line 2)) (0.1.0)\n",
      "Requirement already satisfied: jupyter-core in /usr/local/lib/python3.7/site-packages (from nbformat>=4.2.0->ipywidgets->-r idc_CANLab/requirements.txt (line 2)) (4.6.3)\n",
      "Requirement already satisfied: ipython-genutils in /usr/local/lib/python3.7/site-packages (from nbformat>=4.2.0->ipywidgets->-r idc_CANLab/requirements.txt (line 2)) (0.2.0)\n",
      "Requirement already satisfied: jsonschema!=2.5.0,>=2.4 in /usr/local/lib/python3.7/site-packages (from nbformat>=4.2.0->ipywidgets->-r idc_CANLab/requirements.txt (line 2)) (3.2.0)\n",
      "Requirement already satisfied: decorator in /usr/local/lib/python3.7/site-packages (from traitlets>=4.3.1->ipywidgets->-r idc_CANLab/requirements.txt (line 2)) (4.4.2)\n",
      "Requirement already satisfied: jedi>=0.10 in /usr/local/lib/python3.7/site-packages (from ipython>=4.0.0; python_version >= \"3.3\"->ipywidgets->-r idc_CANLab/requirements.txt (line 2)) (0.16.0)\n",
      "Requirement already satisfied: setuptools>=18.5 in /usr/local/lib/python3.7/site-packages (from ipython>=4.0.0; python_version >= \"3.3\"->ipywidgets->-r idc_CANLab/requirements.txt (line 2)) (41.6.0)\n",
      "Requirement already satisfied: backcall in /usr/local/lib/python3.7/site-packages (from ipython>=4.0.0; python_version >= \"3.3\"->ipywidgets->-r idc_CANLab/requirements.txt (line 2)) (0.1.0)\n",
      "Requirement already satisfied: pickleshare in /usr/local/lib/python3.7/site-packages (from ipython>=4.0.0; python_version >= \"3.3\"->ipywidgets->-r idc_CANLab/requirements.txt (line 2)) (0.7.5)\n",
      "Requirement already satisfied: pygments in /usr/local/lib/python3.7/site-packages (from ipython>=4.0.0; python_version >= \"3.3\"->ipywidgets->-r idc_CANLab/requirements.txt (line 2)) (2.6.1)\n",
      "Requirement already satisfied: pexpect; sys_platform != \"win32\" in /usr/local/lib/python3.7/site-packages (from ipython>=4.0.0; python_version >= \"3.3\"->ipywidgets->-r idc_CANLab/requirements.txt (line 2)) (4.8.0)\n",
      "Requirement already satisfied: prompt-toolkit!=3.0.0,!=3.0.1,<3.1.0,>=2.0.0 in /usr/local/lib/python3.7/site-packages (from ipython>=4.0.0; python_version >= \"3.3\"->ipywidgets->-r idc_CANLab/requirements.txt (line 2)) (3.0.4)\n",
      "Requirement already satisfied: cachetools<5.0,>=2.0.0 in /usr/local/lib/python3.7/site-packages (from google-auth<2.0dev,>=1.11.0->google-cloud-storage==1.29.0->-r idc_CANLab/requirements.txt (line 4)) (3.1.1)\n",
      "Requirement already satisfied: pyasn1-modules>=0.2.1 in /usr/local/lib/python3.7/site-packages (from google-auth<2.0dev,>=1.11.0->google-cloud-storage==1.29.0->-r idc_CANLab/requirements.txt (line 4)) (0.2.7)\n",
      "Requirement already satisfied: rsa<5,>=3.1.4; python_version >= \"3\" in /usr/local/lib/python3.7/site-packages (from google-auth<2.0dev,>=1.11.0->google-cloud-storage==1.29.0->-r idc_CANLab/requirements.txt (line 4)) (4.0)\n",
      "Requirement already satisfied: google-api-core<2.0.0dev,>=1.16.0 in /usr/local/lib/python3.7/site-packages (from google-cloud-core<2.0dev,>=1.2.0->google-cloud-storage==1.29.0->-r idc_CANLab/requirements.txt (line 4)) (1.21.0)\n"
     ]
    },
    {
     "name": "stdout",
     "output_type": "stream",
     "text": [
      "Requirement already satisfied: terminado>=0.3.3; sys_platform != \"win32\" in /usr/local/lib/python3.7/site-packages (from notebook~=5.2.0->google-colab==1.0.0->-r idc_CANLab/requirements.txt (line 5)) (0.8.3)\n",
      "Requirement already satisfied: nbconvert in /usr/local/lib/python3.7/site-packages (from notebook~=5.2.0->google-colab==1.0.0->-r idc_CANLab/requirements.txt (line 5)) (5.6.1)\n",
      "Requirement already satisfied: idna<2.9,>=2.5 in /usr/local/lib/python3.7/site-packages (from requests~=2.21.0->google-colab==1.0.0->-r idc_CANLab/requirements.txt (line 5)) (2.6)\n",
      "Requirement already satisfied: chardet<3.1.0,>=3.0.2 in /usr/local/lib/python3.7/site-packages (from requests~=2.21.0->google-colab==1.0.0->-r idc_CANLab/requirements.txt (line 5)) (3.0.4)\n",
      "Requirement already satisfied: urllib3<1.25,>=1.21.1 in /usr/local/lib/python3.7/site-packages (from requests~=2.21.0->google-colab==1.0.0->-r idc_CANLab/requirements.txt (line 5)) (1.22)\n",
      "Requirement already satisfied: certifi>=2017.4.17 in /usr/local/lib/python3.7/site-packages (from requests~=2.21.0->google-colab==1.0.0->-r idc_CANLab/requirements.txt (line 5)) (2019.11.28)\n",
      "Requirement already satisfied: pyzmq>=13 in /usr/local/lib/python3.7/site-packages (from jupyter-client->ipykernel>=4.5.1->ipywidgets->-r idc_CANLab/requirements.txt (line 2)) (18.1.1)\n",
      "Requirement already satisfied: importlib-metadata; python_version < \"3.8\" in /usr/local/lib/python3.7/site-packages (from jsonschema!=2.5.0,>=2.4->nbformat>=4.2.0->ipywidgets->-r idc_CANLab/requirements.txt (line 2)) (1.5.0)\n",
      "Requirement already satisfied: attrs>=17.4.0 in /usr/local/lib/python3.7/site-packages (from jsonschema!=2.5.0,>=2.4->nbformat>=4.2.0->ipywidgets->-r idc_CANLab/requirements.txt (line 2)) (19.3.0)\n",
      "Requirement already satisfied: pyrsistent>=0.14.0 in /usr/local/lib/python3.7/site-packages (from jsonschema!=2.5.0,>=2.4->nbformat>=4.2.0->ipywidgets->-r idc_CANLab/requirements.txt (line 2)) (0.15.7)\n",
      "Requirement already satisfied: parso>=0.5.2 in /usr/local/lib/python3.7/site-packages (from jedi>=0.10->ipython>=4.0.0; python_version >= \"3.3\"->ipywidgets->-r idc_CANLab/requirements.txt (line 2)) (0.6.2)\n",
      "Requirement already satisfied: ptyprocess>=0.5 in /usr/local/lib/python3.7/site-packages (from pexpect; sys_platform != \"win32\"->ipython>=4.0.0; python_version >= \"3.3\"->ipywidgets->-r idc_CANLab/requirements.txt (line 2)) (0.6.0)\n",
      "Requirement already satisfied: wcwidth in /usr/local/lib/python3.7/site-packages (from prompt-toolkit!=3.0.0,!=3.0.1,<3.1.0,>=2.0.0->ipython>=4.0.0; python_version >= \"3.3\"->ipywidgets->-r idc_CANLab/requirements.txt (line 2)) (0.1.8)\n",
      "Requirement already satisfied: pyasn1<0.5.0,>=0.4.6 in /usr/local/lib/python3.7/site-packages (from pyasn1-modules>=0.2.1->google-auth<2.0dev,>=1.11.0->google-cloud-storage==1.29.0->-r idc_CANLab/requirements.txt (line 4)) (0.4.8)\n",
      "Requirement already satisfied: googleapis-common-protos<2.0dev,>=1.6.0 in /usr/local/lib/python3.7/site-packages (from google-api-core<2.0.0dev,>=1.16.0->google-cloud-core<2.0dev,>=1.2.0->google-cloud-storage==1.29.0->-r idc_CANLab/requirements.txt (line 4)) (1.6.0)\n",
      "Requirement already satisfied: protobuf>=3.12.0 in /usr/local/lib/python3.7/site-packages (from google-api-core<2.0.0dev,>=1.16.0->google-cloud-core<2.0dev,>=1.2.0->google-cloud-storage==1.29.0->-r idc_CANLab/requirements.txt (line 4)) (3.12.2)\n",
      "Requirement already satisfied: entrypoints>=0.2.2 in /usr/local/lib/python3.7/site-packages (from nbconvert->notebook~=5.2.0->google-colab==1.0.0->-r idc_CANLab/requirements.txt (line 5)) (0.3)\n",
      "Requirement already satisfied: defusedxml in /usr/local/lib/python3.7/site-packages (from nbconvert->notebook~=5.2.0->google-colab==1.0.0->-r idc_CANLab/requirements.txt (line 5)) (0.6.0)\n",
      "Requirement already satisfied: mistune<2,>=0.8.1 in /usr/local/lib/python3.7/site-packages (from nbconvert->notebook~=5.2.0->google-colab==1.0.0->-r idc_CANLab/requirements.txt (line 5)) (0.8.4)\n",
      "Requirement already satisfied: pandocfilters>=1.4.1 in /usr/local/lib/python3.7/site-packages (from nbconvert->notebook~=5.2.0->google-colab==1.0.0->-r idc_CANLab/requirements.txt (line 5)) (1.4.2)\n",
      "Requirement already satisfied: testpath in /usr/local/lib/python3.7/site-packages (from nbconvert->notebook~=5.2.0->google-colab==1.0.0->-r idc_CANLab/requirements.txt (line 5)) (0.4.4)\n",
      "Requirement already satisfied: bleach in /usr/local/lib/python3.7/site-packages (from nbconvert->notebook~=5.2.0->google-colab==1.0.0->-r idc_CANLab/requirements.txt (line 5)) (3.1.3)\n",
      "Requirement already satisfied: zipp>=0.5 in /usr/local/lib/python3.7/site-packages (from importlib-metadata; python_version < \"3.8\"->jsonschema!=2.5.0,>=2.4->nbformat>=4.2.0->ipywidgets->-r idc_CANLab/requirements.txt (line 2)) (3.1.0)\n",
      "Requirement already satisfied: webencodings in /usr/local/lib/python3.7/site-packages (from bleach->nbconvert->notebook~=5.2.0->google-colab==1.0.0->-r idc_CANLab/requirements.txt (line 5)) (0.5.1)\n"
     ]
    }
   ],
   "source": [
    "!pip3 install -r idc_CANLab/requirements.txt"
   ]
  },
  {
   "cell_type": "code",
   "execution_count": 3,
   "metadata": {},
   "outputs": [
    {
     "name": "stderr",
     "output_type": "stream",
     "text": [
      "/usr/local/lib/python3.7/site-packages/google/colab/data_table.py:30: UserWarning: IPython.utils.traitlets has moved to a top-level traitlets package.\n",
      "  from IPython.utils import traitlets as _traitlets\n"
     ]
    }
   ],
   "source": [
    "from google.colab import drive\n",
    "from google.colab import files\n",
    "    \n",
    "from idc_CANLab.functions import utils,plots,consts, summary, backup # Our functionalities\n",
    "\n",
    "from ipywidgets import interact, interactive, fixed, interact_manual#, FileUpload\n",
    "import ipywidgets as widgets\n",
    "from IPython.display import display\n",
    "from IPython.display import FileLink, FileLinks\n",
    "# Data manipulation and calculation packages\n",
    "import pandas as pd\n",
    "import numpy as np\n",
    "import os"
   ]
  },
  {
   "cell_type": "markdown",
   "metadata": {},
   "source": [
    "# Data Structures"
   ]
  },
  {
   "cell_type": "code",
   "execution_count": 4,
   "metadata": {},
   "outputs": [],
   "source": [
    "dfs = {}\n",
    "data_frame_names = []\n",
    "cleaning_dfs = {}\n",
    "cleaning_file_names = []"
   ]
  },
  {
   "cell_type": "markdown",
   "metadata": {},
   "source": [
    "# Please enter your name, and a name for your experiment\n",
    "## This will help us and you to build more meaningfull file names for your exported data and graphs"
   ]
  },
  {
   "cell_type": "code",
   "execution_count": 5,
   "metadata": {},
   "outputs": [
    {
     "data": {
      "application/vnd.jupyter.widget-view+json": {
       "model_id": "9ca613052a234e39b6d6f2324aecc86a",
       "version_major": 2,
       "version_minor": 0
      },
      "text/plain": [
       "VBox(children=(Text(value='vwmmsxanip', placeholder='Type your name'), Text(value='kstuzc', placeholder='Type …"
      ]
     },
     "metadata": {},
     "output_type": "display_data"
    }
   ],
   "source": [
    "researcher_name = widgets.Text(\n",
    "    value=utils.get_random_string(10),\n",
    "    placeholder='Type your name'\n",
    ")\n",
    "project_name = widgets.Text(\n",
    "    value=utils.get_random_string(6),\n",
    "    placeholder='Type your project name'\n",
    ")\n",
    "\n",
    "names = widgets.VBox([researcher_name,project_name])\n",
    "names"
   ]
  },
  {
   "cell_type": "markdown",
   "metadata": {},
   "source": [
    "# Settings up environment variables to config your research environment"
   ]
  },
  {
   "cell_type": "code",
   "execution_count": 6,
   "metadata": {},
   "outputs": [],
   "source": [
    "os.environ[consts.PROJECT_NAME_ENV_VAR]=project_name.value\n",
    "os.environ[consts.USERNAME_ENV_VAR]=researcher_name.value"
   ]
  },
  {
   "cell_type": "markdown",
   "metadata": {},
   "source": [
    "# 1) File Uploads\n",
    "## Please note we currently support only CSV files.\n",
    "##    If your'e using Excel or other file formats please convert to CSV\n",
    "###  Excel to CSV - https://knowledgebase.constantcontact.com/articles/KnowledgeBase/6409-saving-an-excel-file-as-a-csv-file?lang=en_US\n",
    "### EDF to CSV - https://emotiv.gitbook.io/emotivpro/convert_edf_to_csv"
   ]
  },
  {
   "cell_type": "markdown",
   "metadata": {},
   "source": [
    "## 1.1) Choose Primary file to upload - Only one file!\n",
    "\n",
    "## If you alerady uploaded the file you can select it "
   ]
  },
  {
   "cell_type": "code",
   "execution_count": 10,
   "metadata": {
    "scrolled": true
   },
   "outputs": [
    {
     "data": {
      "application/vnd.jupyter.widget-view+json": {
       "model_id": "61d4370cea064ceaa19d9074c7761b01",
       "version_major": 2,
       "version_minor": 0
      },
      "text/plain": [
       "interactive(children=(Dropdown(description='File name:', options=('./idc_CANLab/examples/gal_data/bad_experime…"
      ]
     },
     "metadata": {},
     "output_type": "display_data"
    },
    {
     "data": {
      "text/plain": [
       "<function __main__.choose_filename(filename)>"
      ]
     },
     "execution_count": 10,
     "metadata": {},
     "output_type": "execute_result"
    }
   ],
   "source": [
    "def choose_filename(filename):\n",
    "  return filename\n",
    "primary_file_name_dropdown = widgets.Dropdown(\n",
    "    options=utils.list_all_files_in_dir(\".\"),\n",
    "    description='File name:',\n",
    ")\n",
    "# primary_file_name_dropdown\n",
    "interact(choose_filename, filename=primary_file_name_dropdown)"
   ]
  },
  {
   "cell_type": "code",
   "execution_count": 11,
   "metadata": {},
   "outputs": [],
   "source": [
    "file_name = primary_file_name_dropdown.value\n",
    "dfs['primary'] = pd.read_csv(file_name)\n",
    "data_frame_names = list(dfs.keys())"
   ]
  },
  {
   "cell_type": "markdown",
   "metadata": {},
   "source": [
    "## If you have not uploaded the file already, please upload it\n",
    "## If you used the 2 boxes above make sure to SKIP these 2 boxes, or else you will override your data"
   ]
  },
  {
   "cell_type": "code",
   "execution_count": 9,
   "metadata": {},
   "outputs": [
    {
     "data": {
      "text/html": [
       "\n",
       "     <input type=\"file\" id=\"files-0ddad564-d71e-4a05-9a2d-c7de54b15e07\" name=\"files[]\" multiple disabled />\n",
       "     <output id=\"result-0ddad564-d71e-4a05-9a2d-c7de54b15e07\">\n",
       "      Upload widget is only available when the cell has been executed in the\n",
       "      current browser session. Please rerun this cell to enable.\n",
       "      </output>\n",
       "      <script src=\"/nbextensions/google.colab/files.js\"></script> "
      ],
      "text/plain": [
       "<IPython.core.display.HTML object>"
      ]
     },
     "metadata": {},
     "output_type": "display_data"
    },
    {
     "ename": "KeyboardInterrupt",
     "evalue": "",
     "output_type": "error",
     "traceback": [
      "\u001b[0;31m---------------------------------------------------------------------------\u001b[0m",
      "\u001b[0;31mKeyboardInterrupt\u001b[0m                         Traceback (most recent call last)",
      "\u001b[0;32m<ipython-input-9-c2078a043650>\u001b[0m in \u001b[0;36m<module>\u001b[0;34m\u001b[0m\n\u001b[0;32m----> 1\u001b[0;31m \u001b[0muploaded\u001b[0m \u001b[0;34m=\u001b[0m \u001b[0mfiles\u001b[0m\u001b[0;34m.\u001b[0m\u001b[0mupload\u001b[0m\u001b[0;34m(\u001b[0m\u001b[0;34m)\u001b[0m\u001b[0;34m\u001b[0m\u001b[0;34m\u001b[0m\u001b[0m\n\u001b[0m\u001b[1;32m      2\u001b[0m \u001b[0;32massert\u001b[0m \u001b[0mlen\u001b[0m\u001b[0;34m(\u001b[0m\u001b[0muploaded\u001b[0m\u001b[0;34m.\u001b[0m\u001b[0mitems\u001b[0m\u001b[0;34m(\u001b[0m\u001b[0;34m)\u001b[0m\u001b[0;34m)\u001b[0m \u001b[0;34m==\u001b[0m \u001b[0;36m1\u001b[0m\u001b[0;34m\u001b[0m\u001b[0;34m\u001b[0m\u001b[0m\n",
      "\u001b[0;32m/usr/local/lib/python3.7/site-packages/google/colab/files.py\u001b[0m in \u001b[0;36mupload\u001b[0;34m()\u001b[0m\n\u001b[1;32m     62\u001b[0m   result = _output.eval_js(\n\u001b[1;32m     63\u001b[0m       'google.colab._files._uploadFiles(\"{input_id}\", \"{output_id}\")'.format(\n\u001b[0;32m---> 64\u001b[0;31m           input_id=input_id, output_id=output_id))\n\u001b[0m\u001b[1;32m     65\u001b[0m   \u001b[0mfiles\u001b[0m \u001b[0;34m=\u001b[0m \u001b[0m_collections\u001b[0m\u001b[0;34m.\u001b[0m\u001b[0mdefaultdict\u001b[0m\u001b[0;34m(\u001b[0m\u001b[0m_six\u001b[0m\u001b[0;34m.\u001b[0m\u001b[0mbinary_type\u001b[0m\u001b[0;34m)\u001b[0m\u001b[0;34m\u001b[0m\u001b[0;34m\u001b[0m\u001b[0m\n\u001b[1;32m     66\u001b[0m   \u001b[0;31m# Mapping from original filename to filename as saved locally.\u001b[0m\u001b[0;34m\u001b[0m\u001b[0;34m\u001b[0m\u001b[0;34m\u001b[0m\u001b[0m\n",
      "\u001b[0;32m/usr/local/lib/python3.7/site-packages/google/colab/output/_js.py\u001b[0m in \u001b[0;36meval_js\u001b[0;34m(script, ignore_result)\u001b[0m\n\u001b[1;32m     37\u001b[0m   \u001b[0;32mif\u001b[0m \u001b[0mignore_result\u001b[0m\u001b[0;34m:\u001b[0m\u001b[0;34m\u001b[0m\u001b[0;34m\u001b[0m\u001b[0m\n\u001b[1;32m     38\u001b[0m     \u001b[0;32mreturn\u001b[0m\u001b[0;34m\u001b[0m\u001b[0;34m\u001b[0m\u001b[0m\n\u001b[0;32m---> 39\u001b[0;31m   \u001b[0;32mreturn\u001b[0m \u001b[0m_message\u001b[0m\u001b[0;34m.\u001b[0m\u001b[0mread_reply_from_input\u001b[0m\u001b[0;34m(\u001b[0m\u001b[0mrequest_id\u001b[0m\u001b[0;34m)\u001b[0m\u001b[0;34m\u001b[0m\u001b[0;34m\u001b[0m\u001b[0m\n\u001b[0m\u001b[1;32m     40\u001b[0m \u001b[0;34m\u001b[0m\u001b[0m\n\u001b[1;32m     41\u001b[0m \u001b[0;34m\u001b[0m\u001b[0m\n",
      "\u001b[0;32m/usr/local/lib/python3.7/site-packages/google/colab/_message.py\u001b[0m in \u001b[0;36mread_reply_from_input\u001b[0;34m(message_id, timeout_sec)\u001b[0m\n\u001b[1;32m     99\u001b[0m     \u001b[0mreply\u001b[0m \u001b[0;34m=\u001b[0m \u001b[0m_read_next_input_message\u001b[0m\u001b[0;34m(\u001b[0m\u001b[0;34m)\u001b[0m\u001b[0;34m\u001b[0m\u001b[0;34m\u001b[0m\u001b[0m\n\u001b[1;32m    100\u001b[0m     \u001b[0;32mif\u001b[0m \u001b[0mreply\u001b[0m \u001b[0;34m==\u001b[0m \u001b[0m_NOT_READY\u001b[0m \u001b[0;32mor\u001b[0m \u001b[0;32mnot\u001b[0m \u001b[0misinstance\u001b[0m\u001b[0;34m(\u001b[0m\u001b[0mreply\u001b[0m\u001b[0;34m,\u001b[0m \u001b[0mdict\u001b[0m\u001b[0;34m)\u001b[0m\u001b[0;34m:\u001b[0m\u001b[0;34m\u001b[0m\u001b[0;34m\u001b[0m\u001b[0m\n\u001b[0;32m--> 101\u001b[0;31m       \u001b[0mtime\u001b[0m\u001b[0;34m.\u001b[0m\u001b[0msleep\u001b[0m\u001b[0;34m(\u001b[0m\u001b[0;36m0.025\u001b[0m\u001b[0;34m)\u001b[0m\u001b[0;34m\u001b[0m\u001b[0;34m\u001b[0m\u001b[0m\n\u001b[0m\u001b[1;32m    102\u001b[0m       \u001b[0;32mcontinue\u001b[0m\u001b[0;34m\u001b[0m\u001b[0;34m\u001b[0m\u001b[0m\n\u001b[1;32m    103\u001b[0m     if (reply.get('type') == 'colab_reply' and\n",
      "\u001b[0;31mKeyboardInterrupt\u001b[0m: "
     ]
    }
   ],
   "source": [
    "uploaded = files.upload()\n",
    "assert len(uploaded.items()) == 1"
   ]
  },
  {
   "cell_type": "code",
   "execution_count": null,
   "metadata": {},
   "outputs": [],
   "source": [
    "for file_name, byte_file in uploaded.items():\n",
    "  dfs['primary'] = pd.read_csv(io.StringIO(byte_file.decode(\"utf-8\")))\n",
    "data_frame_names = list(dfs.keys())"
   ]
  },
  {
   "cell_type": "markdown",
   "metadata": {},
   "source": [
    "## 1.2) Choose Other files to upload, files we wish to merge to the primary file, like demographic data, metadata on the trial and others\n",
    "## If you alerady uploaded the file you can select it "
   ]
  },
  {
   "cell_type": "code",
   "execution_count": 12,
   "metadata": {},
   "outputs": [
    {
     "data": {
      "application/vnd.jupyter.widget-view+json": {
       "model_id": "bd09da7b0de34c25935e3b398d55e740",
       "version_major": 2,
       "version_minor": 0
      },
      "text/plain": [
       "interactive(children=(SelectMultiple(description='File name:', options=('./idc_CANLab/examples/gal_data/bad_ex…"
      ]
     },
     "metadata": {},
     "output_type": "display_data"
    },
    {
     "data": {
      "text/plain": [
       "<function __main__.choose_filename(filename)>"
      ]
     },
     "execution_count": 12,
     "metadata": {},
     "output_type": "execute_result"
    }
   ],
   "source": [
    "def choose_filename(filename):\n",
    "  return filename\n",
    "secondary_files_name_dropdown = widgets.SelectMultiple(\n",
    "    options=utils.list_all_files_in_dir(\".\"),\n",
    "    description='File name:',\n",
    ")\n",
    "\n",
    "interact(choose_filename, filename=secondary_files_name_dropdown)"
   ]
  },
  {
   "cell_type": "code",
   "execution_count": 13,
   "metadata": {},
   "outputs": [],
   "source": [
    "scondary_file_names = list(secondary_files_name_dropdown.value)\n",
    "for file_name in scondary_file_names:\n",
    "  dfs[file_name] = pd.read_csv(file_name)\n",
    "data_frame_names = list(dfs.keys())"
   ]
  },
  {
   "cell_type": "markdown",
   "metadata": {},
   "source": [
    "## If you have not uploaded the file already, please upload it\n",
    "## If you used the 2 boxes above please skip these 2"
   ]
  },
  {
   "cell_type": "code",
   "execution_count": null,
   "metadata": {},
   "outputs": [],
   "source": [
    "merged_uploaded = files.upload()"
   ]
  },
  {
   "cell_type": "code",
   "execution_count": null,
   "metadata": {},
   "outputs": [],
   "source": [
    "for file_name, byte_file in merged_uploaded.items():\n",
    "  data_frame_names.append(file_name)\n",
    "  dfs[file_name] = pd.read_csv(io.StringIO(byte_file.decode(\"utf-8\")))"
   ]
  },
  {
   "cell_type": "markdown",
   "metadata": {},
   "source": [
    "## 1.3) Data Sumarization"
   ]
  },
  {
   "cell_type": "code",
   "execution_count": null,
   "metadata": {},
   "outputs": [],
   "source": [
    "print(summary.info_dfs(list(dfs.values())))"
   ]
  },
  {
   "cell_type": "markdown",
   "metadata": {},
   "source": [
    "# 2) Merging Extra data from external files - (for example memory span, age, etc)\n",
    "\n",
    "### Please note that if you wish to look at the raw data before adding more from external sources, all you need to do is just skip the following box and move to the plotting part\n",
    "\n",
    "### Please note, it is recommended to read a about JOIN and ANTI_JOIN opparations in SQL and Python Pandas to fully understand what we are doing here, although not mandatory. We would try and make the process as simple as possible\n"
   ]
  },
  {
   "cell_type": "markdown",
   "metadata": {},
   "source": [
    "## 2.1) For each file we wish to merge, select the columns you wish to merge by with the primary file, these columns will be used as unique key and the recommendation will be the User Id/Session Label/Subject and Trial_Id/Trial Label."
   ]
  },
  {
   "cell_type": "code",
   "execution_count": 14,
   "metadata": {},
   "outputs": [
    {
     "data": {
      "application/vnd.jupyter.widget-view+json": {
       "model_id": "262e7d58c76f4c59971dd1d3527d19a4",
       "version_major": 2,
       "version_minor": 0
      },
      "text/plain": [
       "VBox(children=(HBox(children=(SelectMultiple(description='./idc_CANLab/examples/gal_data/corrected_span_groups…"
      ]
     },
     "metadata": {},
     "output_type": "display_data"
    }
   ],
   "source": [
    "def choose_colums(colums):\n",
    "  return colums\n",
    "\n",
    "# Widget that will be shwon at the bottom, after running the box\n",
    "external_merge_columns_dropdown = []\n",
    "for i in range(1,len(set(data_frame_names))):\n",
    "  if data_frame_names[i] == \"primary\":\n",
    "    continue\n",
    "  w1 = widgets.SelectMultiple(\n",
    "      options=dfs[data_frame_names[i]].columns,\n",
    "      description=data_frame_names[i]\n",
    "  )\n",
    "  w2 = widgets.SelectMultiple(\n",
    "      options=dfs[data_frame_names[0]].columns,\n",
    "      description=data_frame_names[0]\n",
    "  )\n",
    "  external_merge_columns_dropdown.append(widgets.HBox([w1,w2]))\n",
    "  \n",
    "columns_map = widgets.VBox(external_merge_columns_dropdown)\n",
    "columns_map"
   ]
  },
  {
   "cell_type": "markdown",
   "metadata": {},
   "source": [
    "## 2.2) Merging is done automatically"
   ]
  },
  {
   "cell_type": "code",
   "execution_count": 15,
   "metadata": {},
   "outputs": [],
   "source": [
    "merged_df = dfs[data_frame_names[0]].copy()\n",
    "for i in range(1,len(set(data_frame_names))):\n",
    "  child = columns_map.children[i-1]\n",
    "  left = list(child.children[1].value)\n",
    "  right = list(child.children[0].value)\n",
    "  merged_df = merged_df.merge(dfs[data_frame_names[i]], left_on=left, right_on=right, how='inner')\n"
   ]
  },
  {
   "cell_type": "markdown",
   "metadata": {},
   "source": [
    "## 2.3) Data Sumarization"
   ]
  },
  {
   "cell_type": "code",
   "execution_count": 16,
   "metadata": {},
   "outputs": [
    {
     "name": "stdout",
     "output_type": "stream",
     "text": [
      "https://storage.googleapis.com/outliers/vwmmsxanip/kstuzc/info_07-18-2020-17%3A22%3A38.txt\n",
      "https://storage.googleapis.com/outliers/object_vwmmsxanip/kstuzc/descibe_07-18-2020-17%3A22%3A40.csv\n",
      "https://storage.googleapis.com/outliers/numeric_vwmmsxanip/kstuzc/descibe_07-18-2020-17%3A22%3A40.csv\n",
      "https://storage.googleapis.com/outliers/numeric_vwmmsxanip/kstuzc/descibe_07-18-2020-17%3A22%3A42.csv\n"
     ]
    }
   ],
   "source": [
    "\n",
    "print(summary.info_dfs(list(dfs.values())))\n",
    "for sum_url in summary.describe_dfs(list(dfs.values())):\n",
    "    print(sum_url)"
   ]
  },
  {
   "cell_type": "markdown",
   "metadata": {},
   "source": [
    "# 3) Droping unwanted colums\n",
    "## Here we suggest removing uneeded columns from our primary merged file, this could help both better performance and understanding of the data \n"
   ]
  },
  {
   "cell_type": "markdown",
   "metadata": {},
   "source": [
    "## 3.1) Choose unwanted colums"
   ]
  },
  {
   "cell_type": "code",
   "execution_count": 17,
   "metadata": {},
   "outputs": [
    {
     "data": {
      "application/vnd.jupyter.widget-view+json": {
       "model_id": "e57929534bb3410b85ae08d0745934fb",
       "version_major": 2,
       "version_minor": 0
      },
      "text/plain": [
       "interactive(children=(SelectMultiple(description='Select colums to drop:', options=('RECORDING_SESSION_LABEL',…"
      ]
     },
     "metadata": {},
     "output_type": "display_data"
    },
    {
     "data": {
      "text/plain": [
       "<function __main__.choose_colums(colums)>"
      ]
     },
     "execution_count": 17,
     "metadata": {},
     "output_type": "execute_result"
    }
   ],
   "source": [
    "def choose_colums(colums):\n",
    "  return colums\n",
    "# Widget that will be shwon at the bottom, after running the box\n",
    "colums_dropdown = widgets.SelectMultiple(\n",
    "    options=merged_df.columns,\n",
    "    description='Select colums to drop:',\n",
    ")\n",
    "\n",
    "interact(choose_colums, colums=colums_dropdown)"
   ]
  },
  {
   "cell_type": "markdown",
   "metadata": {},
   "source": [
    "## 3.2) Dropping the columns"
   ]
  },
  {
   "cell_type": "code",
   "execution_count": 18,
   "metadata": {},
   "outputs": [],
   "source": [
    "colums_to_drop = list(colums_dropdown.value)\n",
    "merged_df = merged_df.drop(columns=colums_to_drop)\n",
    "\n",
    "# Flattening \n",
    "for col in merged_df.columns:\n",
    "  if merged_df[col].dtype == object:\n",
    "    merged_df[col] = merged_df[col].astype('category')"
   ]
  },
  {
   "cell_type": "markdown",
   "metadata": {},
   "source": [
    "## 3.3) Data Sumarization"
   ]
  },
  {
   "cell_type": "code",
   "execution_count": 21,
   "metadata": {},
   "outputs": [
    {
     "name": "stdout",
     "output_type": "stream",
     "text": [
      "https://storage.googleapis.com/outliers/vwmmsxanip/kstuzc/info_07-18-2020-17%3A25%3A52.txt\n",
      "https://storage.googleapis.com/outliers/category_vwmmsxanip/kstuzc/descibe_07-18-2020-17%3A25%3A52.csv\n",
      "https://storage.googleapis.com/outliers/numeric_vwmmsxanip/kstuzc/descibe_07-18-2020-17%3A25%3A52.csv\n"
     ]
    }
   ],
   "source": [
    "print(summary.info_dfs([merged_df]))\n",
    "for sum_url in summary.describe_dfs([merged_df]):\n",
    "    print(sum_url)\n"
   ]
  },
  {
   "cell_type": "markdown",
   "metadata": {},
   "source": [
    "## 3.4) Choose columns to convert to categorical, for example subject_id, trial_id, memory span and others should be categorical\n",
    "## Wants to convert some numeric values for categorical? Do it now!"
   ]
  },
  {
   "cell_type": "code",
   "execution_count": 22,
   "metadata": {},
   "outputs": [
    {
     "data": {
      "application/vnd.jupyter.widget-view+json": {
       "model_id": "e3fccb0f06bb4198a088049ecf2c2729",
       "version_major": 2,
       "version_minor": 0
      },
      "text/plain": [
       "interactive(children=(SelectMultiple(description='Select colums to drop:', options=('RECORDING_SESSION_LABEL',…"
      ]
     },
     "metadata": {},
     "output_type": "display_data"
    },
    {
     "data": {
      "text/plain": [
       "<function __main__.choose_colums(colums)>"
      ]
     },
     "execution_count": 22,
     "metadata": {},
     "output_type": "execute_result"
    }
   ],
   "source": [
    "def choose_colums(colums):\n",
    "  return colums\n",
    "# Widget that will be shwon at the bottom, after running the box\n",
    "categorical_colums_dropdown = widgets.SelectMultiple(\n",
    "    options=merged_df.columns,\n",
    "    description='Select colums to drop:',\n",
    ")\n",
    "\n",
    "interact(choose_colums, colums=categorical_colums_dropdown)"
   ]
  },
  {
   "cell_type": "code",
   "execution_count": 23,
   "metadata": {},
   "outputs": [],
   "source": [
    "colums_to_convert_to_categorical = list(categorical_colums_dropdown.value)\n",
    "for col in colums_to_convert_to_categorical:\n",
    "  merged_df[col] = merged_df[col].astype('category')"
   ]
  },
  {
   "cell_type": "markdown",
   "metadata": {},
   "source": [
    "# 4) Ploting the raw data we have so far\n",
    "\n",
    "## In the next few boxes we are going through a process of plotting the trials a certain Subject was going through"
   ]
  },
  {
   "cell_type": "markdown",
   "metadata": {},
   "source": [
    "## 4.1) Per Subject Ploting"
   ]
  },
  {
   "cell_type": "markdown",
   "metadata": {},
   "source": [
    "### 4.1.1) Select the name of the column you wish to group by, usually the subject or trial columns"
   ]
  },
  {
   "cell_type": "code",
   "execution_count": 24,
   "metadata": {},
   "outputs": [
    {
     "data": {
      "application/vnd.jupyter.widget-view+json": {
       "model_id": "31e20b66d9c941aa89c3cb6a7812331a",
       "version_major": 2,
       "version_minor": 0
      },
      "text/plain": [
       "interactive(children=(Dropdown(description='Subject:', options=('RECORDING_SESSION_LABEL', 'TRIAL_INDEX', 'BIN…"
      ]
     },
     "metadata": {},
     "output_type": "display_data"
    },
    {
     "data": {
      "text/plain": [
       "<function __main__.col_name(column_name)>"
      ]
     },
     "execution_count": 24,
     "metadata": {},
     "output_type": "execute_result"
    }
   ],
   "source": [
    "def col_name(column_name):\n",
    "  return column_name\n",
    "\n",
    "groupped_column_dropdown = widgets.Dropdown(\n",
    "    options=merged_df.columns,\n",
    "    description='Subject:',\n",
    ")\n",
    "\n",
    "interact(col_name, column_name=groupped_column_dropdown)"
   ]
  },
  {
   "cell_type": "markdown",
   "metadata": {},
   "source": [
    "## 4.1.2) Select the desire columns you wish to have as your y and x axis.\n",
    "### For y, usually the column that follow the eye gaze on the Target, but could also be for the Competitor or one of the fillers\n",
    "### For x, usually the time column"
   ]
  },
  {
   "cell_type": "code",
   "execution_count": 25,
   "metadata": {},
   "outputs": [
    {
     "data": {
      "application/vnd.jupyter.widget-view+json": {
       "model_id": "1618f43ddd334c1eb9b995287e112b4a",
       "version_major": 2,
       "version_minor": 0
      },
      "text/plain": [
       "interactive(children=(Dropdown(description='Select `Y` axis column name:', options=('RECORDING_SESSION_LABEL',…"
      ]
     },
     "metadata": {},
     "output_type": "display_data"
    },
    {
     "data": {
      "application/vnd.jupyter.widget-view+json": {
       "model_id": "6648e7eb07b9455da7c19e2b465ea39b",
       "version_major": 2,
       "version_minor": 0
      },
      "text/plain": [
       "interactive(children=(Dropdown(description='Select `X` axis column name:', options=('RECORDING_SESSION_LABEL',…"
      ]
     },
     "metadata": {},
     "output_type": "display_data"
    },
    {
     "data": {
      "text/plain": [
       "<function __main__.choose_axis(axis)>"
      ]
     },
     "execution_count": 25,
     "metadata": {},
     "output_type": "execute_result"
    }
   ],
   "source": [
    "def choose_axis(axis):\n",
    "  return axis\n",
    "\n",
    "y_column_dropdown = widgets.Dropdown(\n",
    "    options=merged_df.columns,\n",
    "    description='Select `Y` axis column name:',\n",
    ")\n",
    "x_column_dropdown = widgets.Dropdown(\n",
    "    options=merged_df.columns,\n",
    "    description='Select `X` axis column name:',\n",
    ")\n",
    "\n",
    "interact(choose_axis, axis=y_column_dropdown)\n",
    "interact(choose_axis, axis=x_column_dropdown)"
   ]
  },
  {
   "cell_type": "markdown",
   "metadata": {},
   "source": [
    "## 4.1.3) Select the different features (e.g memory span, critical, load, noise level) you want to create the grid by"
   ]
  },
  {
   "cell_type": "code",
   "execution_count": 26,
   "metadata": {},
   "outputs": [
    {
     "data": {
      "application/vnd.jupyter.widget-view+json": {
       "model_id": "31def0a1fe9e491092eccf7a29bda5f0",
       "version_major": 2,
       "version_minor": 0
      },
      "text/plain": [
       "interactive(children=(SelectMultiple(description='Select colums to drop:', options=('RECORDING_SESSION_LABEL',…"
      ]
     },
     "metadata": {},
     "output_type": "display_data"
    },
    {
     "data": {
      "text/plain": [
       "<function __main__.choose_colums(colums)>"
      ]
     },
     "execution_count": 26,
     "metadata": {},
     "output_type": "execute_result"
    }
   ],
   "source": [
    "def choose_colums(colums):\n",
    "  return colums\n",
    "# Widget that will be shwon at the bottom, after running the box\n",
    "features_column_dropdown = widgets.SelectMultiple(\n",
    "    options=merged_df.columns,\n",
    "    description='Select colums to drop:',\n",
    ")\n",
    "\n",
    "interact(choose_colums, colums=features_column_dropdown)"
   ]
  },
  {
   "cell_type": "markdown",
   "metadata": {},
   "source": [
    "## 4.1.4) Plot!!"
   ]
  },
  {
   "cell_type": "code",
   "execution_count": 27,
   "metadata": {},
   "outputs": [
    {
     "name": "stdout",
     "output_type": "stream",
     "text": [
      "plots_by_group_and_features -  https://storage.googleapis.com/outliers/vwmmsxanip/kstuzc/groups_by_features_07-18-2020-17%3A26%3A51.html\n",
      "plot_general_avg_grid -  https://storage.googleapis.com/outliers/vwmmsxanip/kstuzc/general_avg_grid_07-18-2020-17%3A27%3A31.html\n",
      "plot_general_avg -  https://storage.googleapis.com/outliers/vwmmsxanip/kstuzc/general_avg_07-18-2020-17%3A27%3A38.html\n"
     ]
    }
   ],
   "source": [
    "groupping_col_name = groupped_column_dropdown.value\n",
    "y_name = y_column_dropdown.value\n",
    "x_name = x_column_dropdown.value\n",
    "grid_features = list(features_column_dropdown.value)\n",
    "\n",
    "_, url = plots.plots_by_group_and_features(merged_df, groupping_col_name, y_name, x_name, grid_features)\n",
    "print(\"plots_by_group_and_features - \",url)\n",
    "_, url = plots.plot_general_avg_grid(merged_df, y_name, x_name, grid_features)\n",
    "print(\"plot_general_avg_grid - \",url)\n",
    "_, url = plots.plot_general_avg(merged_df, y_name, x_name)\n",
    "print(\"plot_general_avg - \",url)"
   ]
  },
  {
   "cell_type": "markdown",
   "metadata": {},
   "source": [
    "# 5) Filtering and Data Cleaning\n",
    "## You can repeat the folowing steps in order to clean different values from different colmuns"
   ]
  },
  {
   "cell_type": "markdown",
   "metadata": {},
   "source": [
    "## 5.1) Drop rows with Nan/Null values"
   ]
  },
  {
   "cell_type": "code",
   "execution_count": 28,
   "metadata": {},
   "outputs": [],
   "source": [
    "merged_df = merged_df.dropna()"
   ]
  },
  {
   "cell_type": "markdown",
   "metadata": {},
   "source": [
    "## 5.2) Choose Column to filter by"
   ]
  },
  {
   "cell_type": "code",
   "execution_count": 29,
   "metadata": {},
   "outputs": [
    {
     "data": {
      "application/vnd.jupyter.widget-view+json": {
       "model_id": "eede102e47b24122aba6ee49fc11f540",
       "version_major": 2,
       "version_minor": 0
      },
      "text/plain": [
       "interactive(children=(Dropdown(description='Col Name:', options=('RECORDING_SESSION_LABEL', 'TRIAL_INDEX', 'BI…"
      ]
     },
     "metadata": {},
     "output_type": "display_data"
    },
    {
     "data": {
      "text/plain": [
       "<function __main__.col_name(column_name)>"
      ]
     },
     "execution_count": 29,
     "metadata": {},
     "output_type": "execute_result"
    }
   ],
   "source": [
    "def col_name(column_name):\n",
    "  return column_name\n",
    "\n",
    "filter_column_dropdown = widgets.Dropdown(\n",
    "    options=merged_df.columns,\n",
    "    description='Col Name:',\n",
    ")\n",
    "\n",
    "interact(col_name, column_name=filter_column_dropdown)"
   ]
  },
  {
   "cell_type": "markdown",
   "metadata": {},
   "source": [
    "## 5.3) Choose value to remove from the data"
   ]
  },
  {
   "cell_type": "code",
   "execution_count": 30,
   "metadata": {},
   "outputs": [
    {
     "data": {
      "application/vnd.jupyter.widget-view+json": {
       "model_id": "b655aaf1576c4f619f1001bac0c721e7",
       "version_major": 2,
       "version_minor": 0
      },
      "text/plain": [
       "interactive(children=(Dropdown(description='Value Name:', options=('n', 'y'), value='n'), Output()), _dom_clas…"
      ]
     },
     "metadata": {},
     "output_type": "display_data"
    },
    {
     "data": {
      "text/plain": [
       "<function __main__.value_name(value)>"
      ]
     },
     "execution_count": 30,
     "metadata": {},
     "output_type": "execute_result"
    }
   ],
   "source": [
    "col_name = filter_column_dropdown.value\n",
    "values = list(merged_df[col_name].unique())\n",
    "def value_name(value):\n",
    "  return value\n",
    "\n",
    "value_name_dropdown = widgets.Dropdown(\n",
    "    options=values,\n",
    "    description='Value Name:',\n",
    ")\n",
    "\n",
    "interact(value_name, value=value_name_dropdown)"
   ]
  },
  {
   "cell_type": "markdown",
   "metadata": {},
   "source": [
    "## 5.4) Filter that value out!"
   ]
  },
  {
   "cell_type": "code",
   "execution_count": 31,
   "metadata": {},
   "outputs": [],
   "source": [
    "value = value_name_dropdown.value\n",
    "selector = (merged_df[col_name] != value)\n",
    "merged_df = merged_df[selector]"
   ]
  },
  {
   "cell_type": "markdown",
   "metadata": {},
   "source": [
    "## 5.5) Data Summarization and plotting"
   ]
  },
  {
   "cell_type": "code",
   "execution_count": 44,
   "metadata": {},
   "outputs": [
    {
     "name": "stdout",
     "output_type": "stream",
     "text": [
      "The autoreload extension is already loaded. To reload it, use:\n",
      "  %reload_ext autoreload\n",
      "https://storage.googleapis.com/outliers/vwmmsxanip/kstuzc/info_07-18-2020-17%3A48%3A26.txt\n",
      "https://storage.googleapis.com/outliers/category_vwmmsxanip/kstuzc/descibe_07-18-2020-17%3A48%3A27.csv\n",
      "https://storage.googleapis.com/outliers/numeric_vwmmsxanip/kstuzc/descibe_07-18-2020-17%3A48%3A27.csv\n",
      "plots_by_group_and_features -  https://storage.googleapis.com/outliers/vwmmsxanip/kstuzc/groups_by_features_07-18-2020-17%3A48%3A30.html\n",
      "plot_general_avg_grid -  https://storage.googleapis.com/outliers/vwmmsxanip/kstuzc/general_avg_grid_07-18-2020-17%3A48%3A48.html\n",
      "plot_general_avg -  https://storage.googleapis.com/outliers/vwmmsxanip/kstuzc/general_avg_07-18-2020-17%3A48%3A56.html\n"
     ]
    }
   ],
   "source": [
    "print(summary.info_dfs([merged_df]))\n",
    "for sum_url in summary.describe_dfs([merged_df]):\n",
    "    print(sum_url)\n",
    "\n",
    "_, url = plots.plots_by_group_and_features(merged_df, groupping_col_name, y_name, x_name, grid_features)\n",
    "print(\"plots_by_group_and_features - \",url)\n",
    "_, url = plots.plot_general_avg_grid(merged_df, y_name, x_name, grid_features)\n",
    "print(\"plot_general_avg_grid - \",url)\n",
    "_, url = plots.plot_general_avg(merged_df, y_name, x_name)\n",
    "print(\"plot_general_avg - \",url)"
   ]
  },
  {
   "cell_type": "markdown",
   "metadata": {},
   "source": [
    "## 5.6) Filter according to exteral files.\n",
    "## Here we will use the idea behind anti join to drop certain rows accroding to files you have prepared in advance"
   ]
  },
  {
   "cell_type": "markdown",
   "metadata": {},
   "source": [
    "### 5.6.1) If you alerady uploaded the file you can select it"
   ]
  },
  {
   "cell_type": "code",
   "execution_count": 63,
   "metadata": {},
   "outputs": [
    {
     "data": {
      "application/vnd.jupyter.widget-view+json": {
       "model_id": "9342d1d6096941e7b4575e6d52bf99e4",
       "version_major": 2,
       "version_minor": 0
      },
      "text/plain": [
       "interactive(children=(SelectMultiple(description='File name:', options=('./idc_CANLab/examples/gal_data/bad_ex…"
      ]
     },
     "metadata": {},
     "output_type": "display_data"
    },
    {
     "data": {
      "text/plain": [
       "<function __main__.choose_filename(filename)>"
      ]
     },
     "execution_count": 63,
     "metadata": {},
     "output_type": "execute_result"
    }
   ],
   "source": [
    "def choose_filename(filename):\n",
    "  return filename\n",
    "anti_join_files_name_dropdown = widgets.SelectMultiple(\n",
    "    options=utils.list_all_files_in_dir(\".\"),\n",
    "    description='File name:',\n",
    ")\n",
    "\n",
    "interact(choose_filename, filename=anti_join_files_name_dropdown)"
   ]
  },
  {
   "cell_type": "code",
   "execution_count": 66,
   "metadata": {},
   "outputs": [],
   "source": [
    "cleaning_dfs = {}\n",
    "anti_join_file_names = list(anti_join_files_name_dropdown.value)\n",
    "for file_name in anti_join_file_names:\n",
    "  c_df = pd.read_csv(file_name)\n",
    "  for col in c_df.columns:\n",
    "    if col in merged_df.columns:\n",
    "      c_df[col] = c_df[col].astype(merged_df[col].dtype)\n",
    "  cleaning_dfs[file_name] = c_df\n",
    "cleaning_file_names = list(cleaning_dfs.keys())"
   ]
  },
  {
   "cell_type": "markdown",
   "metadata": {},
   "source": [
    "### 5.6.2) If you have not uploaded the file already, please upload it\n",
    "### If you used the 2 boxes above please skip these 2"
   ]
  },
  {
   "cell_type": "code",
   "execution_count": null,
   "metadata": {},
   "outputs": [],
   "source": [
    "anti_merge_uploaded = files.upload()"
   ]
  },
  {
   "cell_type": "code",
   "execution_count": null,
   "metadata": {},
   "outputs": [],
   "source": [
    "for file_name, byte_file in anti_merge_uploaded.items():\n",
    "  c_df = pd.read_csv(io.StringIO(byte_file.decode(\"utf-8\")))\n",
    "  for col in c_df.columns:\n",
    "    if col in merged_df.colmuns:\n",
    "      c_df[col] = c_df[col].astype(merged_df[col].dtype)\n",
    "        \n",
    "  cleaning_dfs[file_name] = c_df\n",
    "cleaning_file_names = list(cleaning_dfs.keys())"
   ]
  },
  {
   "cell_type": "markdown",
   "metadata": {},
   "source": [
    "### 5.6.3) Choose the unique column names you wish to anti-join.\n",
    "### This columns hsould create a unique like key so we can tell our notebook to remove each row that corresponds from the file to the data we have cleaning and merged so far"
   ]
  },
  {
   "cell_type": "code",
   "execution_count": 67,
   "metadata": {},
   "outputs": [
    {
     "data": {
      "application/vnd.jupyter.widget-view+json": {
       "model_id": "4c42e0e8b7eb4897a39597e47d8fbe9b",
       "version_major": 2,
       "version_minor": 0
      },
      "text/plain": [
       "VBox(children=(HBox(children=(SelectMultiple(description='./idc_CANLab/examples/gal_data/bad_experiments.csv',…"
      ]
     },
     "metadata": {},
     "output_type": "display_data"
    }
   ],
   "source": [
    "def choose_colums(colums):\n",
    "  return colums\n",
    "\n",
    "# Widget that will be shwon at the bottom, after running the box\n",
    "external_clean_columns_dropdown = []\n",
    "for i in range(0,len(cleaning_file_names)):\n",
    "  w1 = widgets.SelectMultiple(\n",
    "      options=cleaning_dfs[cleaning_file_names[i]].columns,\n",
    "      description=cleaning_file_names[i]\n",
    "  )\n",
    "  w2 = widgets.SelectMultiple(\n",
    "      options=merged_df.columns,\n",
    "      description='primary data frame'\n",
    "  )\n",
    "  external_clean_columns_dropdown.append(widgets.HBox([w1,w2]))\n",
    "  \n",
    "columns_map = widgets.VBox(external_clean_columns_dropdown)\n",
    "columns_map"
   ]
  },
  {
   "cell_type": "code",
   "execution_count": 70,
   "metadata": {},
   "outputs": [
    {
     "name": "stdout",
     "output_type": "stream",
     "text": [
      "['RECORDING_SESSION_LABEL', 'TRIAL_INDEX']\n",
      "['RECORDING_SESSION_LABEL', 'TRIAL_INDEX']\n"
     ]
    }
   ],
   "source": [
    "for i in range(len(cleaning_file_names)):\n",
    "  # Flat columns from import files\n",
    "  clean_df = cleaning_dfs[cleaning_file_names[i]]\n",
    "  child = columns_map.children[i-1]\n",
    "  left = list(child.children[1].value)\n",
    "  right = list(child.children[0].value)\n",
    "  merged_df = utils.anti_join(merged_df, clean_df, left_on=left, right_on=right)"
   ]
  },
  {
   "cell_type": "markdown",
   "metadata": {},
   "source": [
    "### 5.6.4) Data Summarization and plotting"
   ]
  },
  {
   "cell_type": "code",
   "execution_count": 80,
   "metadata": {},
   "outputs": [
    {
     "name": "stdout",
     "output_type": "stream",
     "text": [
      "The autoreload extension is already loaded. To reload it, use:\n",
      "  %reload_ext autoreload\n",
      "https://storage.googleapis.com/outliers/vwmmsxanip/kstuzc/info_07-18-2020-19%3A15%3A32.txt\n"
     ]
    }
   ],
   "source": [
    "print(summary.info_dfs([merged_df]))\n",
    "for sum_url in summary.describe_dfs([merged_df]):\n",
    "    print(sum_url)\n",
    "\n",
    "_, url = plots.plots_by_group_and_features(merged_df, groupping_col_name, y_name, x_name, grid_features)\n",
    "print(\"plots_by_group_and_features - \",url)\n",
    "_, url = plots.plot_general_avg_grid(merged_df, y_name, x_name, grid_features)\n",
    "print(\"plot_general_avg_grid - \",url)\n",
    "_, url = plots.plot_general_avg(merged_df, y_name, x_name)\n",
    "print(\"plot_general_avg - \",url)"
   ]
  },
  {
   "cell_type": "markdown",
   "metadata": {},
   "source": [
    "# 6) Saving files\n",
    "## At any stage you can choose to save the current state of our manipulated data"
   ]
  },
  {
   "cell_type": "markdown",
   "metadata": {},
   "source": [
    "## 6.1) Full backup"
   ]
  },
  {
   "cell_type": "code",
   "execution_count": 78,
   "metadata": {},
   "outputs": [
    {
     "name": "stdout",
     "output_type": "stream",
     "text": [
      "The autoreload extension is already loaded. To reload it, use:\n",
      "  %reload_ext autoreload\n",
      "vwmmsxanip/kstuzc/original_07-18-2020-18:28:39.csv\n",
      "original_07-18-2020-18:28:39.csv\n",
      "done\n",
      "vwmmsxanip/kstuzc/original_07-18-2020-18:37:00.csv\n",
      "original_07-18-2020-18:37:00.csv\n",
      "done\n",
      "vwmmsxanip/kstuzc/original_07-18-2020-18:37:00.csv\n",
      "vwmmsxanip/kstuzc/primary_07-18-2020-18:37:01.csv\n",
      "['https://storage.googleapis.com/outliers/vwmmsxanip/kstuzc/original_07-18-2020-18%3A28%3A39.csv', 'https://storage.googleapis.com/outliers/vwmmsxanip/kstuzc/original_07-18-2020-18%3A37%3A00.csv', 'https://storage.googleapis.com/outliers/vwmmsxanip/kstuzc/clean_07-18-2020-18%3A37%3A01.csv', 'https://storage.googleapis.com/outliers/vwmmsxanip/kstuzc/primary_07-18-2020-18%3A37%3A01.csv']\n",
      "['https://storage.googleapis.com/outliers/vwmmsxanip/kstuzc/original_07-18-2020-18%3A28%3A39.csv', 'https://storage.googleapis.com/outliers/vwmmsxanip/kstuzc/original_07-18-2020-18%3A37%3A00.csv', 'https://storage.googleapis.com/outliers/vwmmsxanip/kstuzc/clean_07-18-2020-18%3A37%3A01.csv', 'https://storage.googleapis.com/outliers/vwmmsxanip/kstuzc/primary_07-18-2020-18%3A37%3A01.csv']\n",
      "['https://storage.googleapis.com/outliers/vwmmsxanip/kstuzc/original_07-18-2020-18%3A28%3A39.csv', 'https://storage.googleapis.com/outliers/vwmmsxanip/kstuzc/original_07-18-2020-18%3A37%3A00.csv', 'https://storage.googleapis.com/outliers/vwmmsxanip/kstuzc/clean_07-18-2020-18%3A37%3A01.csv', 'https://storage.googleapis.com/outliers/vwmmsxanip/kstuzc/primary_07-18-2020-18%3A37%3A01.csv']\n",
      "['https://storage.googleapis.com/outliers/vwmmsxanip/kstuzc/original_07-18-2020-18%3A28%3A39.csv', 'https://storage.googleapis.com/outliers/vwmmsxanip/kstuzc/original_07-18-2020-18%3A37%3A00.csv', 'https://storage.googleapis.com/outliers/vwmmsxanip/kstuzc/clean_07-18-2020-18%3A37%3A01.csv', 'https://storage.googleapis.com/outliers/vwmmsxanip/kstuzc/primary_07-18-2020-18%3A37%3A01.csv']\n",
      "['https://storage.googleapis.com/outliers/vwmmsxanip/kstuzc/original_07-18-2020-18%3A28%3A39.csv', 'https://storage.googleapis.com/outliers/vwmmsxanip/kstuzc/original_07-18-2020-18%3A37%3A00.csv', 'https://storage.googleapis.com/outliers/vwmmsxanip/kstuzc/clean_07-18-2020-18%3A37%3A01.csv', 'https://storage.googleapis.com/outliers/vwmmsxanip/kstuzc/primary_07-18-2020-18%3A37%3A01.csv']\n",
      "['https://storage.googleapis.com/outliers/vwmmsxanip/kstuzc/original_07-18-2020-18%3A28%3A39.csv', 'https://storage.googleapis.com/outliers/vwmmsxanip/kstuzc/original_07-18-2020-18%3A37%3A00.csv', 'https://storage.googleapis.com/outliers/vwmmsxanip/kstuzc/clean_07-18-2020-18%3A37%3A01.csv', 'https://storage.googleapis.com/outliers/vwmmsxanip/kstuzc/primary_07-18-2020-18%3A37%3A01.csv']\n",
      "['https://storage.googleapis.com/outliers/vwmmsxanip/kstuzc/original_07-18-2020-18%3A28%3A39.csv', 'https://storage.googleapis.com/outliers/vwmmsxanip/kstuzc/original_07-18-2020-18%3A37%3A00.csv', 'https://storage.googleapis.com/outliers/vwmmsxanip/kstuzc/clean_07-18-2020-18%3A37%3A01.csv', 'https://storage.googleapis.com/outliers/vwmmsxanip/kstuzc/primary_07-18-2020-18%3A37%3A01.csv']\n",
      "['https://storage.googleapis.com/outliers/vwmmsxanip/kstuzc/original_07-18-2020-18%3A28%3A39.csv', 'https://storage.googleapis.com/outliers/vwmmsxanip/kstuzc/original_07-18-2020-18%3A37%3A00.csv', 'https://storage.googleapis.com/outliers/vwmmsxanip/kstuzc/clean_07-18-2020-18%3A37%3A01.csv', 'https://storage.googleapis.com/outliers/vwmmsxanip/kstuzc/primary_07-18-2020-18%3A37%3A01.csv']\n",
      "['https://storage.googleapis.com/outliers/vwmmsxanip/kstuzc/original_07-18-2020-18%3A28%3A39.csv', 'https://storage.googleapis.com/outliers/vwmmsxanip/kstuzc/original_07-18-2020-18%3A37%3A00.csv', 'https://storage.googleapis.com/outliers/vwmmsxanip/kstuzc/clean_07-18-2020-18%3A37%3A01.csv', 'https://storage.googleapis.com/outliers/vwmmsxanip/kstuzc/primary_07-18-2020-18%3A37%3A01.csv']\n",
      "['https://storage.googleapis.com/outliers/vwmmsxanip/kstuzc/original_07-18-2020-18%3A28%3A39.csv', 'https://storage.googleapis.com/outliers/vwmmsxanip/kstuzc/original_07-18-2020-18%3A37%3A00.csv', 'https://storage.googleapis.com/outliers/vwmmsxanip/kstuzc/clean_07-18-2020-18%3A37%3A01.csv', 'https://storage.googleapis.com/outliers/vwmmsxanip/kstuzc/primary_07-18-2020-18%3A37%3A01.csv']\n",
      "['https://storage.googleapis.com/outliers/vwmmsxanip/kstuzc/original_07-18-2020-18%3A28%3A39.csv', 'https://storage.googleapis.com/outliers/vwmmsxanip/kstuzc/original_07-18-2020-18%3A37%3A00.csv', 'https://storage.googleapis.com/outliers/vwmmsxanip/kstuzc/clean_07-18-2020-18%3A37%3A01.csv', 'https://storage.googleapis.com/outliers/vwmmsxanip/kstuzc/primary_07-18-2020-18%3A37%3A01.csv']\n",
      "['https://storage.googleapis.com/outliers/vwmmsxanip/kstuzc/original_07-18-2020-18%3A28%3A39.csv', 'https://storage.googleapis.com/outliers/vwmmsxanip/kstuzc/original_07-18-2020-18%3A37%3A00.csv', 'https://storage.googleapis.com/outliers/vwmmsxanip/kstuzc/clean_07-18-2020-18%3A37%3A01.csv', 'https://storage.googleapis.com/outliers/vwmmsxanip/kstuzc/primary_07-18-2020-18%3A37%3A01.csv']\n",
      "['https://storage.googleapis.com/outliers/vwmmsxanip/kstuzc/original_07-18-2020-18%3A28%3A39.csv', 'https://storage.googleapis.com/outliers/vwmmsxanip/kstuzc/original_07-18-2020-18%3A37%3A00.csv', 'https://storage.googleapis.com/outliers/vwmmsxanip/kstuzc/clean_07-18-2020-18%3A37%3A01.csv', 'https://storage.googleapis.com/outliers/vwmmsxanip/kstuzc/primary_07-18-2020-18%3A37%3A01.csv']\n",
      "['https://storage.googleapis.com/outliers/vwmmsxanip/kstuzc/original_07-18-2020-18%3A28%3A39.csv', 'https://storage.googleapis.com/outliers/vwmmsxanip/kstuzc/original_07-18-2020-18%3A37%3A00.csv', 'https://storage.googleapis.com/outliers/vwmmsxanip/kstuzc/clean_07-18-2020-18%3A37%3A01.csv', 'https://storage.googleapis.com/outliers/vwmmsxanip/kstuzc/primary_07-18-2020-18%3A37%3A01.csv']\n",
      "['https://storage.googleapis.com/outliers/vwmmsxanip/kstuzc/original_07-18-2020-18%3A28%3A39.csv', 'https://storage.googleapis.com/outliers/vwmmsxanip/kstuzc/original_07-18-2020-18%3A37%3A00.csv', 'https://storage.googleapis.com/outliers/vwmmsxanip/kstuzc/clean_07-18-2020-18%3A37%3A01.csv', 'https://storage.googleapis.com/outliers/vwmmsxanip/kstuzc/primary_07-18-2020-18%3A37%3A01.csv']\n",
      "['https://storage.googleapis.com/outliers/vwmmsxanip/kstuzc/original_07-18-2020-18%3A28%3A39.csv', 'https://storage.googleapis.com/outliers/vwmmsxanip/kstuzc/original_07-18-2020-18%3A37%3A00.csv', 'https://storage.googleapis.com/outliers/vwmmsxanip/kstuzc/clean_07-18-2020-18%3A37%3A01.csv', 'https://storage.googleapis.com/outliers/vwmmsxanip/kstuzc/primary_07-18-2020-18%3A37%3A01.csv']\n",
      "['https://storage.googleapis.com/outliers/vwmmsxanip/kstuzc/original_07-18-2020-18%3A28%3A39.csv', 'https://storage.googleapis.com/outliers/vwmmsxanip/kstuzc/original_07-18-2020-18%3A37%3A00.csv', 'https://storage.googleapis.com/outliers/vwmmsxanip/kstuzc/clean_07-18-2020-18%3A37%3A01.csv', 'https://storage.googleapis.com/outliers/vwmmsxanip/kstuzc/primary_07-18-2020-18%3A37%3A01.csv']\n",
      "['https://storage.googleapis.com/outliers/vwmmsxanip/kstuzc/original_07-18-2020-18%3A28%3A39.csv', 'https://storage.googleapis.com/outliers/vwmmsxanip/kstuzc/original_07-18-2020-18%3A37%3A00.csv', 'https://storage.googleapis.com/outliers/vwmmsxanip/kstuzc/clean_07-18-2020-18%3A37%3A01.csv', 'https://storage.googleapis.com/outliers/vwmmsxanip/kstuzc/primary_07-18-2020-18%3A37%3A01.csv']\n",
      "['https://storage.googleapis.com/outliers/vwmmsxanip/kstuzc/original_07-18-2020-18%3A28%3A39.csv', 'https://storage.googleapis.com/outliers/vwmmsxanip/kstuzc/original_07-18-2020-18%3A37%3A00.csv', 'https://storage.googleapis.com/outliers/vwmmsxanip/kstuzc/clean_07-18-2020-18%3A37%3A01.csv', 'https://storage.googleapis.com/outliers/vwmmsxanip/kstuzc/primary_07-18-2020-18%3A37%3A01.csv']\n",
      "['https://storage.googleapis.com/outliers/vwmmsxanip/kstuzc/original_07-18-2020-18%3A28%3A39.csv', 'https://storage.googleapis.com/outliers/vwmmsxanip/kstuzc/original_07-18-2020-18%3A37%3A00.csv', 'https://storage.googleapis.com/outliers/vwmmsxanip/kstuzc/clean_07-18-2020-18%3A37%3A01.csv', 'https://storage.googleapis.com/outliers/vwmmsxanip/kstuzc/primary_07-18-2020-18%3A37%3A01.csv']\n",
      "['https://storage.googleapis.com/outliers/vwmmsxanip/kstuzc/original_07-18-2020-18%3A28%3A39.csv', 'https://storage.googleapis.com/outliers/vwmmsxanip/kstuzc/original_07-18-2020-18%3A37%3A00.csv', 'https://storage.googleapis.com/outliers/vwmmsxanip/kstuzc/clean_07-18-2020-18%3A37%3A01.csv', 'https://storage.googleapis.com/outliers/vwmmsxanip/kstuzc/primary_07-18-2020-18%3A37%3A01.csv']\n",
      "['https://storage.googleapis.com/outliers/vwmmsxanip/kstuzc/original_07-18-2020-18%3A28%3A39.csv', 'https://storage.googleapis.com/outliers/vwmmsxanip/kstuzc/original_07-18-2020-18%3A37%3A00.csv', 'https://storage.googleapis.com/outliers/vwmmsxanip/kstuzc/clean_07-18-2020-18%3A37%3A01.csv', 'https://storage.googleapis.com/outliers/vwmmsxanip/kstuzc/primary_07-18-2020-18%3A37%3A01.csv']\n",
      "['https://storage.googleapis.com/outliers/vwmmsxanip/kstuzc/original_07-18-2020-18%3A28%3A39.csv', 'https://storage.googleapis.com/outliers/vwmmsxanip/kstuzc/original_07-18-2020-18%3A37%3A00.csv', 'https://storage.googleapis.com/outliers/vwmmsxanip/kstuzc/clean_07-18-2020-18%3A37%3A01.csv', 'https://storage.googleapis.com/outliers/vwmmsxanip/kstuzc/primary_07-18-2020-18%3A37%3A01.csv']\n",
      "['https://storage.googleapis.com/outliers/vwmmsxanip/kstuzc/original_07-18-2020-18%3A28%3A39.csv', 'https://storage.googleapis.com/outliers/vwmmsxanip/kstuzc/original_07-18-2020-18%3A37%3A00.csv', 'https://storage.googleapis.com/outliers/vwmmsxanip/kstuzc/clean_07-18-2020-18%3A37%3A01.csv', 'https://storage.googleapis.com/outliers/vwmmsxanip/kstuzc/primary_07-18-2020-18%3A37%3A01.csv']\n",
      "['https://storage.googleapis.com/outliers/vwmmsxanip/kstuzc/original_07-18-2020-18%3A28%3A39.csv', 'https://storage.googleapis.com/outliers/vwmmsxanip/kstuzc/original_07-18-2020-18%3A37%3A00.csv', 'https://storage.googleapis.com/outliers/vwmmsxanip/kstuzc/clean_07-18-2020-18%3A37%3A01.csv', 'https://storage.googleapis.com/outliers/vwmmsxanip/kstuzc/primary_07-18-2020-18%3A37%3A01.csv']\n",
      "['https://storage.googleapis.com/outliers/vwmmsxanip/kstuzc/original_07-18-2020-18%3A28%3A39.csv', 'https://storage.googleapis.com/outliers/vwmmsxanip/kstuzc/original_07-18-2020-18%3A37%3A00.csv', 'https://storage.googleapis.com/outliers/vwmmsxanip/kstuzc/clean_07-18-2020-18%3A37%3A01.csv', 'https://storage.googleapis.com/outliers/vwmmsxanip/kstuzc/primary_07-18-2020-18%3A37%3A01.csv']\n",
      "['https://storage.googleapis.com/outliers/vwmmsxanip/kstuzc/original_07-18-2020-18%3A28%3A39.csv', 'https://storage.googleapis.com/outliers/vwmmsxanip/kstuzc/original_07-18-2020-18%3A37%3A00.csv', 'https://storage.googleapis.com/outliers/vwmmsxanip/kstuzc/clean_07-18-2020-18%3A37%3A01.csv', 'https://storage.googleapis.com/outliers/vwmmsxanip/kstuzc/primary_07-18-2020-18%3A37%3A01.csv']\n",
      "['https://storage.googleapis.com/outliers/vwmmsxanip/kstuzc/original_07-18-2020-18%3A28%3A39.csv', 'https://storage.googleapis.com/outliers/vwmmsxanip/kstuzc/original_07-18-2020-18%3A37%3A00.csv', 'https://storage.googleapis.com/outliers/vwmmsxanip/kstuzc/clean_07-18-2020-18%3A37%3A01.csv', 'https://storage.googleapis.com/outliers/vwmmsxanip/kstuzc/primary_07-18-2020-18%3A37%3A01.csv']\n",
      "['https://storage.googleapis.com/outliers/vwmmsxanip/kstuzc/original_07-18-2020-18%3A28%3A39.csv', 'https://storage.googleapis.com/outliers/vwmmsxanip/kstuzc/original_07-18-2020-18%3A37%3A00.csv', 'https://storage.googleapis.com/outliers/vwmmsxanip/kstuzc/clean_07-18-2020-18%3A37%3A01.csv', 'https://storage.googleapis.com/outliers/vwmmsxanip/kstuzc/primary_07-18-2020-18%3A37%3A01.csv']\n",
      "['https://storage.googleapis.com/outliers/vwmmsxanip/kstuzc/original_07-18-2020-18%3A28%3A39.csv', 'https://storage.googleapis.com/outliers/vwmmsxanip/kstuzc/original_07-18-2020-18%3A37%3A00.csv', 'https://storage.googleapis.com/outliers/vwmmsxanip/kstuzc/clean_07-18-2020-18%3A37%3A01.csv', 'https://storage.googleapis.com/outliers/vwmmsxanip/kstuzc/primary_07-18-2020-18%3A37%3A01.csv']\n",
      "['https://storage.googleapis.com/outliers/vwmmsxanip/kstuzc/original_07-18-2020-18%3A28%3A39.csv', 'https://storage.googleapis.com/outliers/vwmmsxanip/kstuzc/original_07-18-2020-18%3A37%3A00.csv', 'https://storage.googleapis.com/outliers/vwmmsxanip/kstuzc/clean_07-18-2020-18%3A37%3A01.csv', 'https://storage.googleapis.com/outliers/vwmmsxanip/kstuzc/primary_07-18-2020-18%3A37%3A01.csv']\n",
      "['https://storage.googleapis.com/outliers/vwmmsxanip/kstuzc/original_07-18-2020-18%3A28%3A39.csv', 'https://storage.googleapis.com/outliers/vwmmsxanip/kstuzc/original_07-18-2020-18%3A37%3A00.csv', 'https://storage.googleapis.com/outliers/vwmmsxanip/kstuzc/clean_07-18-2020-18%3A37%3A01.csv', 'https://storage.googleapis.com/outliers/vwmmsxanip/kstuzc/primary_07-18-2020-18%3A37%3A01.csv']\n",
      "['https://storage.googleapis.com/outliers/vwmmsxanip/kstuzc/original_07-18-2020-18%3A28%3A39.csv', 'https://storage.googleapis.com/outliers/vwmmsxanip/kstuzc/original_07-18-2020-18%3A37%3A00.csv', 'https://storage.googleapis.com/outliers/vwmmsxanip/kstuzc/clean_07-18-2020-18%3A37%3A01.csv', 'https://storage.googleapis.com/outliers/vwmmsxanip/kstuzc/primary_07-18-2020-18%3A37%3A01.csv']\n",
      "['https://storage.googleapis.com/outliers/vwmmsxanip/kstuzc/original_07-18-2020-18%3A28%3A39.csv', 'https://storage.googleapis.com/outliers/vwmmsxanip/kstuzc/original_07-18-2020-18%3A37%3A00.csv', 'https://storage.googleapis.com/outliers/vwmmsxanip/kstuzc/clean_07-18-2020-18%3A37%3A01.csv', 'https://storage.googleapis.com/outliers/vwmmsxanip/kstuzc/primary_07-18-2020-18%3A37%3A01.csv']\n",
      "['https://storage.googleapis.com/outliers/vwmmsxanip/kstuzc/original_07-18-2020-18%3A28%3A39.csv', 'https://storage.googleapis.com/outliers/vwmmsxanip/kstuzc/original_07-18-2020-18%3A37%3A00.csv', 'https://storage.googleapis.com/outliers/vwmmsxanip/kstuzc/clean_07-18-2020-18%3A37%3A01.csv', 'https://storage.googleapis.com/outliers/vwmmsxanip/kstuzc/primary_07-18-2020-18%3A37%3A01.csv']\n",
      "['https://storage.googleapis.com/outliers/vwmmsxanip/kstuzc/original_07-18-2020-18%3A28%3A39.csv', 'https://storage.googleapis.com/outliers/vwmmsxanip/kstuzc/original_07-18-2020-18%3A37%3A00.csv', 'https://storage.googleapis.com/outliers/vwmmsxanip/kstuzc/clean_07-18-2020-18%3A37%3A01.csv', 'https://storage.googleapis.com/outliers/vwmmsxanip/kstuzc/primary_07-18-2020-18%3A37%3A01.csv']\n",
      "['https://storage.googleapis.com/outliers/vwmmsxanip/kstuzc/original_07-18-2020-18%3A28%3A39.csv', 'https://storage.googleapis.com/outliers/vwmmsxanip/kstuzc/original_07-18-2020-18%3A37%3A00.csv', 'https://storage.googleapis.com/outliers/vwmmsxanip/kstuzc/clean_07-18-2020-18%3A37%3A01.csv', 'https://storage.googleapis.com/outliers/vwmmsxanip/kstuzc/primary_07-18-2020-18%3A37%3A01.csv']\n",
      "['https://storage.googleapis.com/outliers/vwmmsxanip/kstuzc/original_07-18-2020-18%3A28%3A39.csv', 'https://storage.googleapis.com/outliers/vwmmsxanip/kstuzc/original_07-18-2020-18%3A37%3A00.csv', 'https://storage.googleapis.com/outliers/vwmmsxanip/kstuzc/clean_07-18-2020-18%3A37%3A01.csv', 'https://storage.googleapis.com/outliers/vwmmsxanip/kstuzc/primary_07-18-2020-18%3A37%3A01.csv']\n",
      "['https://storage.googleapis.com/outliers/vwmmsxanip/kstuzc/original_07-18-2020-18%3A28%3A39.csv', 'https://storage.googleapis.com/outliers/vwmmsxanip/kstuzc/original_07-18-2020-18%3A37%3A00.csv', 'https://storage.googleapis.com/outliers/vwmmsxanip/kstuzc/clean_07-18-2020-18%3A37%3A01.csv', 'https://storage.googleapis.com/outliers/vwmmsxanip/kstuzc/primary_07-18-2020-18%3A37%3A01.csv']\n",
      "['https://storage.googleapis.com/outliers/vwmmsxanip/kstuzc/original_07-18-2020-18%3A28%3A39.csv', 'https://storage.googleapis.com/outliers/vwmmsxanip/kstuzc/original_07-18-2020-18%3A37%3A00.csv', 'https://storage.googleapis.com/outliers/vwmmsxanip/kstuzc/clean_07-18-2020-18%3A37%3A01.csv', 'https://storage.googleapis.com/outliers/vwmmsxanip/kstuzc/primary_07-18-2020-18%3A37%3A01.csv']\n",
      "['https://storage.googleapis.com/outliers/vwmmsxanip/kstuzc/original_07-18-2020-18%3A28%3A39.csv', 'https://storage.googleapis.com/outliers/vwmmsxanip/kstuzc/original_07-18-2020-18%3A37%3A00.csv', 'https://storage.googleapis.com/outliers/vwmmsxanip/kstuzc/clean_07-18-2020-18%3A37%3A01.csv', 'https://storage.googleapis.com/outliers/vwmmsxanip/kstuzc/primary_07-18-2020-18%3A37%3A01.csv']\n",
      "['https://storage.googleapis.com/outliers/vwmmsxanip/kstuzc/original_07-18-2020-18%3A28%3A39.csv', 'https://storage.googleapis.com/outliers/vwmmsxanip/kstuzc/original_07-18-2020-18%3A37%3A00.csv', 'https://storage.googleapis.com/outliers/vwmmsxanip/kstuzc/clean_07-18-2020-18%3A37%3A01.csv', 'https://storage.googleapis.com/outliers/vwmmsxanip/kstuzc/primary_07-18-2020-18%3A37%3A01.csv']\n",
      "['https://storage.googleapis.com/outliers/vwmmsxanip/kstuzc/original_07-18-2020-18%3A28%3A39.csv', 'https://storage.googleapis.com/outliers/vwmmsxanip/kstuzc/original_07-18-2020-18%3A37%3A00.csv', 'https://storage.googleapis.com/outliers/vwmmsxanip/kstuzc/clean_07-18-2020-18%3A37%3A01.csv', 'https://storage.googleapis.com/outliers/vwmmsxanip/kstuzc/primary_07-18-2020-18%3A37%3A01.csv']\n",
      "['https://storage.googleapis.com/outliers/vwmmsxanip/kstuzc/original_07-18-2020-18%3A28%3A39.csv', 'https://storage.googleapis.com/outliers/vwmmsxanip/kstuzc/original_07-18-2020-18%3A37%3A00.csv', 'https://storage.googleapis.com/outliers/vwmmsxanip/kstuzc/clean_07-18-2020-18%3A37%3A01.csv', 'https://storage.googleapis.com/outliers/vwmmsxanip/kstuzc/primary_07-18-2020-18%3A37%3A01.csv']\n",
      "['https://storage.googleapis.com/outliers/vwmmsxanip/kstuzc/original_07-18-2020-18%3A28%3A39.csv', 'https://storage.googleapis.com/outliers/vwmmsxanip/kstuzc/original_07-18-2020-18%3A37%3A00.csv', 'https://storage.googleapis.com/outliers/vwmmsxanip/kstuzc/clean_07-18-2020-18%3A37%3A01.csv', 'https://storage.googleapis.com/outliers/vwmmsxanip/kstuzc/primary_07-18-2020-18%3A37%3A01.csv']\n",
      "['https://storage.googleapis.com/outliers/vwmmsxanip/kstuzc/original_07-18-2020-18%3A28%3A39.csv', 'https://storage.googleapis.com/outliers/vwmmsxanip/kstuzc/original_07-18-2020-18%3A37%3A00.csv', 'https://storage.googleapis.com/outliers/vwmmsxanip/kstuzc/clean_07-18-2020-18%3A37%3A01.csv', 'https://storage.googleapis.com/outliers/vwmmsxanip/kstuzc/primary_07-18-2020-18%3A37%3A01.csv']\n",
      "['https://storage.googleapis.com/outliers/vwmmsxanip/kstuzc/original_07-18-2020-18%3A28%3A39.csv', 'https://storage.googleapis.com/outliers/vwmmsxanip/kstuzc/original_07-18-2020-18%3A37%3A00.csv', 'https://storage.googleapis.com/outliers/vwmmsxanip/kstuzc/clean_07-18-2020-18%3A37%3A01.csv', 'https://storage.googleapis.com/outliers/vwmmsxanip/kstuzc/primary_07-18-2020-18%3A37%3A01.csv']\n",
      "['https://storage.googleapis.com/outliers/vwmmsxanip/kstuzc/original_07-18-2020-18%3A28%3A39.csv', 'https://storage.googleapis.com/outliers/vwmmsxanip/kstuzc/original_07-18-2020-18%3A37%3A00.csv', 'https://storage.googleapis.com/outliers/vwmmsxanip/kstuzc/clean_07-18-2020-18%3A37%3A01.csv', 'https://storage.googleapis.com/outliers/vwmmsxanip/kstuzc/primary_07-18-2020-18%3A37%3A01.csv']\n",
      "['https://storage.googleapis.com/outliers/vwmmsxanip/kstuzc/original_07-18-2020-18%3A28%3A39.csv', 'https://storage.googleapis.com/outliers/vwmmsxanip/kstuzc/original_07-18-2020-18%3A37%3A00.csv', 'https://storage.googleapis.com/outliers/vwmmsxanip/kstuzc/clean_07-18-2020-18%3A37%3A01.csv', 'https://storage.googleapis.com/outliers/vwmmsxanip/kstuzc/primary_07-18-2020-18%3A37%3A01.csv']\n",
      "['https://storage.googleapis.com/outliers/vwmmsxanip/kstuzc/original_07-18-2020-18%3A28%3A39.csv', 'https://storage.googleapis.com/outliers/vwmmsxanip/kstuzc/original_07-18-2020-18%3A37%3A00.csv', 'https://storage.googleapis.com/outliers/vwmmsxanip/kstuzc/clean_07-18-2020-18%3A37%3A01.csv', 'https://storage.googleapis.com/outliers/vwmmsxanip/kstuzc/primary_07-18-2020-18%3A37%3A01.csv']\n",
      "['https://storage.googleapis.com/outliers/vwmmsxanip/kstuzc/original_07-18-2020-18%3A28%3A39.csv', 'https://storage.googleapis.com/outliers/vwmmsxanip/kstuzc/original_07-18-2020-18%3A37%3A00.csv', 'https://storage.googleapis.com/outliers/vwmmsxanip/kstuzc/clean_07-18-2020-18%3A37%3A01.csv', 'https://storage.googleapis.com/outliers/vwmmsxanip/kstuzc/primary_07-18-2020-18%3A37%3A01.csv']\n",
      "['https://storage.googleapis.com/outliers/vwmmsxanip/kstuzc/original_07-18-2020-18%3A28%3A39.csv', 'https://storage.googleapis.com/outliers/vwmmsxanip/kstuzc/original_07-18-2020-18%3A37%3A00.csv', 'https://storage.googleapis.com/outliers/vwmmsxanip/kstuzc/clean_07-18-2020-18%3A37%3A01.csv', 'https://storage.googleapis.com/outliers/vwmmsxanip/kstuzc/primary_07-18-2020-18%3A37%3A01.csv']\n",
      "['https://storage.googleapis.com/outliers/vwmmsxanip/kstuzc/original_07-18-2020-18%3A28%3A39.csv', 'https://storage.googleapis.com/outliers/vwmmsxanip/kstuzc/original_07-18-2020-18%3A37%3A00.csv', 'https://storage.googleapis.com/outliers/vwmmsxanip/kstuzc/clean_07-18-2020-18%3A37%3A01.csv', 'https://storage.googleapis.com/outliers/vwmmsxanip/kstuzc/primary_07-18-2020-18%3A37%3A01.csv']\n",
      "['https://storage.googleapis.com/outliers/vwmmsxanip/kstuzc/original_07-18-2020-18%3A28%3A39.csv', 'https://storage.googleapis.com/outliers/vwmmsxanip/kstuzc/original_07-18-2020-18%3A37%3A00.csv', 'https://storage.googleapis.com/outliers/vwmmsxanip/kstuzc/clean_07-18-2020-18%3A37%3A01.csv', 'https://storage.googleapis.com/outliers/vwmmsxanip/kstuzc/primary_07-18-2020-18%3A37%3A01.csv']\n",
      "['https://storage.googleapis.com/outliers/vwmmsxanip/kstuzc/original_07-18-2020-18%3A28%3A39.csv', 'https://storage.googleapis.com/outliers/vwmmsxanip/kstuzc/original_07-18-2020-18%3A37%3A00.csv', 'https://storage.googleapis.com/outliers/vwmmsxanip/kstuzc/clean_07-18-2020-18%3A37%3A01.csv', 'https://storage.googleapis.com/outliers/vwmmsxanip/kstuzc/primary_07-18-2020-18%3A37%3A01.csv']\n",
      "['https://storage.googleapis.com/outliers/vwmmsxanip/kstuzc/original_07-18-2020-18%3A28%3A39.csv', 'https://storage.googleapis.com/outliers/vwmmsxanip/kstuzc/original_07-18-2020-18%3A37%3A00.csv', 'https://storage.googleapis.com/outliers/vwmmsxanip/kstuzc/clean_07-18-2020-18%3A37%3A01.csv', 'https://storage.googleapis.com/outliers/vwmmsxanip/kstuzc/primary_07-18-2020-18%3A37%3A01.csv']\n",
      "['https://storage.googleapis.com/outliers/vwmmsxanip/kstuzc/original_07-18-2020-18%3A28%3A39.csv', 'https://storage.googleapis.com/outliers/vwmmsxanip/kstuzc/original_07-18-2020-18%3A37%3A00.csv', 'https://storage.googleapis.com/outliers/vwmmsxanip/kstuzc/clean_07-18-2020-18%3A37%3A01.csv', 'https://storage.googleapis.com/outliers/vwmmsxanip/kstuzc/primary_07-18-2020-18%3A37%3A01.csv']\n",
      "['https://storage.googleapis.com/outliers/vwmmsxanip/kstuzc/original_07-18-2020-18%3A28%3A39.csv', 'https://storage.googleapis.com/outliers/vwmmsxanip/kstuzc/original_07-18-2020-18%3A37%3A00.csv', 'https://storage.googleapis.com/outliers/vwmmsxanip/kstuzc/clean_07-18-2020-18%3A37%3A01.csv', 'https://storage.googleapis.com/outliers/vwmmsxanip/kstuzc/primary_07-18-2020-18%3A37%3A01.csv']\n",
      "['https://storage.googleapis.com/outliers/vwmmsxanip/kstuzc/original_07-18-2020-18%3A28%3A39.csv', 'https://storage.googleapis.com/outliers/vwmmsxanip/kstuzc/original_07-18-2020-18%3A37%3A00.csv', 'https://storage.googleapis.com/outliers/vwmmsxanip/kstuzc/clean_07-18-2020-18%3A37%3A01.csv', 'https://storage.googleapis.com/outliers/vwmmsxanip/kstuzc/primary_07-18-2020-18%3A37%3A01.csv']\n",
      "['https://storage.googleapis.com/outliers/vwmmsxanip/kstuzc/original_07-18-2020-18%3A28%3A39.csv', 'https://storage.googleapis.com/outliers/vwmmsxanip/kstuzc/original_07-18-2020-18%3A37%3A00.csv', 'https://storage.googleapis.com/outliers/vwmmsxanip/kstuzc/clean_07-18-2020-18%3A37%3A01.csv', 'https://storage.googleapis.com/outliers/vwmmsxanip/kstuzc/primary_07-18-2020-18%3A37%3A01.csv']\n",
      "['https://storage.googleapis.com/outliers/vwmmsxanip/kstuzc/original_07-18-2020-18%3A28%3A39.csv', 'https://storage.googleapis.com/outliers/vwmmsxanip/kstuzc/original_07-18-2020-18%3A37%3A00.csv', 'https://storage.googleapis.com/outliers/vwmmsxanip/kstuzc/clean_07-18-2020-18%3A37%3A01.csv', 'https://storage.googleapis.com/outliers/vwmmsxanip/kstuzc/primary_07-18-2020-18%3A37%3A01.csv']\n",
      "['https://storage.googleapis.com/outliers/vwmmsxanip/kstuzc/original_07-18-2020-18%3A28%3A39.csv', 'https://storage.googleapis.com/outliers/vwmmsxanip/kstuzc/original_07-18-2020-18%3A37%3A00.csv', 'https://storage.googleapis.com/outliers/vwmmsxanip/kstuzc/clean_07-18-2020-18%3A37%3A01.csv', 'https://storage.googleapis.com/outliers/vwmmsxanip/kstuzc/primary_07-18-2020-18%3A37%3A01.csv']\n",
      "['https://storage.googleapis.com/outliers/vwmmsxanip/kstuzc/original_07-18-2020-18%3A28%3A39.csv', 'https://storage.googleapis.com/outliers/vwmmsxanip/kstuzc/original_07-18-2020-18%3A37%3A00.csv', 'https://storage.googleapis.com/outliers/vwmmsxanip/kstuzc/clean_07-18-2020-18%3A37%3A01.csv', 'https://storage.googleapis.com/outliers/vwmmsxanip/kstuzc/primary_07-18-2020-18%3A37%3A01.csv']\n",
      "['https://storage.googleapis.com/outliers/vwmmsxanip/kstuzc/original_07-18-2020-18%3A28%3A39.csv', 'https://storage.googleapis.com/outliers/vwmmsxanip/kstuzc/original_07-18-2020-18%3A37%3A00.csv', 'https://storage.googleapis.com/outliers/vwmmsxanip/kstuzc/clean_07-18-2020-18%3A37%3A01.csv', 'https://storage.googleapis.com/outliers/vwmmsxanip/kstuzc/primary_07-18-2020-18%3A37%3A01.csv']\n",
      "['https://storage.googleapis.com/outliers/vwmmsxanip/kstuzc/original_07-18-2020-18%3A28%3A39.csv', 'https://storage.googleapis.com/outliers/vwmmsxanip/kstuzc/original_07-18-2020-18%3A37%3A00.csv', 'https://storage.googleapis.com/outliers/vwmmsxanip/kstuzc/clean_07-18-2020-18%3A37%3A01.csv', 'https://storage.googleapis.com/outliers/vwmmsxanip/kstuzc/primary_07-18-2020-18%3A37%3A01.csv']\n",
      "['https://storage.googleapis.com/outliers/vwmmsxanip/kstuzc/original_07-18-2020-18%3A28%3A39.csv', 'https://storage.googleapis.com/outliers/vwmmsxanip/kstuzc/original_07-18-2020-18%3A37%3A00.csv', 'https://storage.googleapis.com/outliers/vwmmsxanip/kstuzc/clean_07-18-2020-18%3A37%3A01.csv', 'https://storage.googleapis.com/outliers/vwmmsxanip/kstuzc/primary_07-18-2020-18%3A37%3A01.csv']\n",
      "['https://storage.googleapis.com/outliers/vwmmsxanip/kstuzc/original_07-18-2020-18%3A28%3A39.csv', 'https://storage.googleapis.com/outliers/vwmmsxanip/kstuzc/original_07-18-2020-18%3A37%3A00.csv', 'https://storage.googleapis.com/outliers/vwmmsxanip/kstuzc/clean_07-18-2020-18%3A37%3A01.csv', 'https://storage.googleapis.com/outliers/vwmmsxanip/kstuzc/primary_07-18-2020-18%3A37%3A01.csv']\n",
      "['https://storage.googleapis.com/outliers/vwmmsxanip/kstuzc/original_07-18-2020-18%3A28%3A39.csv', 'https://storage.googleapis.com/outliers/vwmmsxanip/kstuzc/original_07-18-2020-18%3A37%3A00.csv', 'https://storage.googleapis.com/outliers/vwmmsxanip/kstuzc/clean_07-18-2020-18%3A37%3A01.csv', 'https://storage.googleapis.com/outliers/vwmmsxanip/kstuzc/primary_07-18-2020-18%3A37%3A01.csv']\n",
      "['https://storage.googleapis.com/outliers/vwmmsxanip/kstuzc/original_07-18-2020-18%3A28%3A39.csv', 'https://storage.googleapis.com/outliers/vwmmsxanip/kstuzc/original_07-18-2020-18%3A37%3A00.csv', 'https://storage.googleapis.com/outliers/vwmmsxanip/kstuzc/clean_07-18-2020-18%3A37%3A01.csv', 'https://storage.googleapis.com/outliers/vwmmsxanip/kstuzc/primary_07-18-2020-18%3A37%3A01.csv']\n",
      "['https://storage.googleapis.com/outliers/vwmmsxanip/kstuzc/original_07-18-2020-18%3A28%3A39.csv', 'https://storage.googleapis.com/outliers/vwmmsxanip/kstuzc/original_07-18-2020-18%3A37%3A00.csv', 'https://storage.googleapis.com/outliers/vwmmsxanip/kstuzc/clean_07-18-2020-18%3A37%3A01.csv', 'https://storage.googleapis.com/outliers/vwmmsxanip/kstuzc/primary_07-18-2020-18%3A37%3A01.csv']\n",
      "['https://storage.googleapis.com/outliers/vwmmsxanip/kstuzc/original_07-18-2020-18%3A28%3A39.csv', 'https://storage.googleapis.com/outliers/vwmmsxanip/kstuzc/original_07-18-2020-18%3A37%3A00.csv', 'https://storage.googleapis.com/outliers/vwmmsxanip/kstuzc/clean_07-18-2020-18%3A37%3A01.csv', 'https://storage.googleapis.com/outliers/vwmmsxanip/kstuzc/primary_07-18-2020-18%3A37%3A01.csv']\n",
      "['https://storage.googleapis.com/outliers/vwmmsxanip/kstuzc/original_07-18-2020-18%3A28%3A39.csv', 'https://storage.googleapis.com/outliers/vwmmsxanip/kstuzc/original_07-18-2020-18%3A37%3A00.csv', 'https://storage.googleapis.com/outliers/vwmmsxanip/kstuzc/clean_07-18-2020-18%3A37%3A01.csv', 'https://storage.googleapis.com/outliers/vwmmsxanip/kstuzc/primary_07-18-2020-18%3A37%3A01.csv']\n",
      "['https://storage.googleapis.com/outliers/vwmmsxanip/kstuzc/original_07-18-2020-18%3A28%3A39.csv', 'https://storage.googleapis.com/outliers/vwmmsxanip/kstuzc/original_07-18-2020-18%3A37%3A00.csv', 'https://storage.googleapis.com/outliers/vwmmsxanip/kstuzc/clean_07-18-2020-18%3A37%3A01.csv', 'https://storage.googleapis.com/outliers/vwmmsxanip/kstuzc/primary_07-18-2020-18%3A37%3A01.csv']\n",
      "['https://storage.googleapis.com/outliers/vwmmsxanip/kstuzc/original_07-18-2020-18%3A28%3A39.csv', 'https://storage.googleapis.com/outliers/vwmmsxanip/kstuzc/original_07-18-2020-18%3A37%3A00.csv', 'https://storage.googleapis.com/outliers/vwmmsxanip/kstuzc/clean_07-18-2020-18%3A37%3A01.csv', 'https://storage.googleapis.com/outliers/vwmmsxanip/kstuzc/primary_07-18-2020-18%3A37%3A01.csv']\n",
      "['https://storage.googleapis.com/outliers/vwmmsxanip/kstuzc/original_07-18-2020-18%3A28%3A39.csv', 'https://storage.googleapis.com/outliers/vwmmsxanip/kstuzc/original_07-18-2020-18%3A37%3A00.csv', 'https://storage.googleapis.com/outliers/vwmmsxanip/kstuzc/clean_07-18-2020-18%3A37%3A01.csv', 'https://storage.googleapis.com/outliers/vwmmsxanip/kstuzc/primary_07-18-2020-18%3A37%3A01.csv']\n",
      "['https://storage.googleapis.com/outliers/vwmmsxanip/kstuzc/original_07-18-2020-18%3A28%3A39.csv', 'https://storage.googleapis.com/outliers/vwmmsxanip/kstuzc/original_07-18-2020-18%3A37%3A00.csv', 'https://storage.googleapis.com/outliers/vwmmsxanip/kstuzc/clean_07-18-2020-18%3A37%3A01.csv', 'https://storage.googleapis.com/outliers/vwmmsxanip/kstuzc/primary_07-18-2020-18%3A37%3A01.csv']\n",
      "['https://storage.googleapis.com/outliers/vwmmsxanip/kstuzc/original_07-18-2020-18%3A28%3A39.csv', 'https://storage.googleapis.com/outliers/vwmmsxanip/kstuzc/original_07-18-2020-18%3A37%3A00.csv', 'https://storage.googleapis.com/outliers/vwmmsxanip/kstuzc/clean_07-18-2020-18%3A37%3A01.csv', 'https://storage.googleapis.com/outliers/vwmmsxanip/kstuzc/primary_07-18-2020-18%3A37%3A01.csv']\n",
      "['https://storage.googleapis.com/outliers/vwmmsxanip/kstuzc/original_07-18-2020-18%3A28%3A39.csv', 'https://storage.googleapis.com/outliers/vwmmsxanip/kstuzc/original_07-18-2020-18%3A37%3A00.csv', 'https://storage.googleapis.com/outliers/vwmmsxanip/kstuzc/clean_07-18-2020-18%3A37%3A01.csv', 'https://storage.googleapis.com/outliers/vwmmsxanip/kstuzc/primary_07-18-2020-18%3A37%3A01.csv']\n",
      "['https://storage.googleapis.com/outliers/vwmmsxanip/kstuzc/original_07-18-2020-18%3A28%3A39.csv', 'https://storage.googleapis.com/outliers/vwmmsxanip/kstuzc/original_07-18-2020-18%3A37%3A00.csv', 'https://storage.googleapis.com/outliers/vwmmsxanip/kstuzc/clean_07-18-2020-18%3A37%3A01.csv', 'https://storage.googleapis.com/outliers/vwmmsxanip/kstuzc/primary_07-18-2020-18%3A37%3A01.csv']\n",
      "['https://storage.googleapis.com/outliers/vwmmsxanip/kstuzc/original_07-18-2020-18%3A28%3A39.csv', 'https://storage.googleapis.com/outliers/vwmmsxanip/kstuzc/original_07-18-2020-18%3A37%3A00.csv', 'https://storage.googleapis.com/outliers/vwmmsxanip/kstuzc/clean_07-18-2020-18%3A37%3A01.csv', 'https://storage.googleapis.com/outliers/vwmmsxanip/kstuzc/primary_07-18-2020-18%3A37%3A01.csv']\n",
      "['https://storage.googleapis.com/outliers/vwmmsxanip/kstuzc/original_07-18-2020-18%3A28%3A39.csv', 'https://storage.googleapis.com/outliers/vwmmsxanip/kstuzc/original_07-18-2020-18%3A37%3A00.csv', 'https://storage.googleapis.com/outliers/vwmmsxanip/kstuzc/clean_07-18-2020-18%3A37%3A01.csv', 'https://storage.googleapis.com/outliers/vwmmsxanip/kstuzc/primary_07-18-2020-18%3A37%3A01.csv']\n",
      "['https://storage.googleapis.com/outliers/vwmmsxanip/kstuzc/original_07-18-2020-18%3A28%3A39.csv', 'https://storage.googleapis.com/outliers/vwmmsxanip/kstuzc/original_07-18-2020-18%3A37%3A00.csv', 'https://storage.googleapis.com/outliers/vwmmsxanip/kstuzc/clean_07-18-2020-18%3A37%3A01.csv', 'https://storage.googleapis.com/outliers/vwmmsxanip/kstuzc/primary_07-18-2020-18%3A37%3A01.csv']\n",
      "['https://storage.googleapis.com/outliers/vwmmsxanip/kstuzc/original_07-18-2020-18%3A28%3A39.csv', 'https://storage.googleapis.com/outliers/vwmmsxanip/kstuzc/original_07-18-2020-18%3A37%3A00.csv', 'https://storage.googleapis.com/outliers/vwmmsxanip/kstuzc/clean_07-18-2020-18%3A37%3A01.csv', 'https://storage.googleapis.com/outliers/vwmmsxanip/kstuzc/primary_07-18-2020-18%3A37%3A01.csv']\n",
      "['https://storage.googleapis.com/outliers/vwmmsxanip/kstuzc/original_07-18-2020-18%3A28%3A39.csv', 'https://storage.googleapis.com/outliers/vwmmsxanip/kstuzc/original_07-18-2020-18%3A37%3A00.csv', 'https://storage.googleapis.com/outliers/vwmmsxanip/kstuzc/clean_07-18-2020-18%3A37%3A01.csv', 'https://storage.googleapis.com/outliers/vwmmsxanip/kstuzc/primary_07-18-2020-18%3A37%3A01.csv']\n",
      "['https://storage.googleapis.com/outliers/vwmmsxanip/kstuzc/original_07-18-2020-18%3A28%3A39.csv', 'https://storage.googleapis.com/outliers/vwmmsxanip/kstuzc/original_07-18-2020-18%3A37%3A00.csv', 'https://storage.googleapis.com/outliers/vwmmsxanip/kstuzc/clean_07-18-2020-18%3A37%3A01.csv', 'https://storage.googleapis.com/outliers/vwmmsxanip/kstuzc/primary_07-18-2020-18%3A37%3A01.csv']\n",
      "['https://storage.googleapis.com/outliers/vwmmsxanip/kstuzc/original_07-18-2020-18%3A28%3A39.csv', 'https://storage.googleapis.com/outliers/vwmmsxanip/kstuzc/original_07-18-2020-18%3A37%3A00.csv', 'https://storage.googleapis.com/outliers/vwmmsxanip/kstuzc/clean_07-18-2020-18%3A37%3A01.csv', 'https://storage.googleapis.com/outliers/vwmmsxanip/kstuzc/primary_07-18-2020-18%3A37%3A01.csv']\n",
      "['https://storage.googleapis.com/outliers/vwmmsxanip/kstuzc/original_07-18-2020-18%3A28%3A39.csv', 'https://storage.googleapis.com/outliers/vwmmsxanip/kstuzc/original_07-18-2020-18%3A37%3A00.csv', 'https://storage.googleapis.com/outliers/vwmmsxanip/kstuzc/clean_07-18-2020-18%3A37%3A01.csv', 'https://storage.googleapis.com/outliers/vwmmsxanip/kstuzc/primary_07-18-2020-18%3A37%3A01.csv']\n",
      "['https://storage.googleapis.com/outliers/vwmmsxanip/kstuzc/original_07-18-2020-18%3A28%3A39.csv', 'https://storage.googleapis.com/outliers/vwmmsxanip/kstuzc/original_07-18-2020-18%3A37%3A00.csv', 'https://storage.googleapis.com/outliers/vwmmsxanip/kstuzc/clean_07-18-2020-18%3A37%3A01.csv', 'https://storage.googleapis.com/outliers/vwmmsxanip/kstuzc/primary_07-18-2020-18%3A37%3A01.csv']\n",
      "['https://storage.googleapis.com/outliers/vwmmsxanip/kstuzc/original_07-18-2020-18%3A28%3A39.csv', 'https://storage.googleapis.com/outliers/vwmmsxanip/kstuzc/original_07-18-2020-18%3A37%3A00.csv', 'https://storage.googleapis.com/outliers/vwmmsxanip/kstuzc/clean_07-18-2020-18%3A37%3A01.csv', 'https://storage.googleapis.com/outliers/vwmmsxanip/kstuzc/primary_07-18-2020-18%3A37%3A01.csv']\n",
      "['https://storage.googleapis.com/outliers/vwmmsxanip/kstuzc/original_07-18-2020-18%3A28%3A39.csv', 'https://storage.googleapis.com/outliers/vwmmsxanip/kstuzc/original_07-18-2020-18%3A37%3A00.csv', 'https://storage.googleapis.com/outliers/vwmmsxanip/kstuzc/clean_07-18-2020-18%3A37%3A01.csv', 'https://storage.googleapis.com/outliers/vwmmsxanip/kstuzc/primary_07-18-2020-18%3A37%3A01.csv']\n",
      "['https://storage.googleapis.com/outliers/vwmmsxanip/kstuzc/original_07-18-2020-18%3A28%3A39.csv', 'https://storage.googleapis.com/outliers/vwmmsxanip/kstuzc/original_07-18-2020-18%3A37%3A00.csv', 'https://storage.googleapis.com/outliers/vwmmsxanip/kstuzc/clean_07-18-2020-18%3A37%3A01.csv', 'https://storage.googleapis.com/outliers/vwmmsxanip/kstuzc/primary_07-18-2020-18%3A37%3A01.csv']\n",
      "['https://storage.googleapis.com/outliers/vwmmsxanip/kstuzc/original_07-18-2020-18%3A28%3A39.csv', 'https://storage.googleapis.com/outliers/vwmmsxanip/kstuzc/original_07-18-2020-18%3A37%3A00.csv', 'https://storage.googleapis.com/outliers/vwmmsxanip/kstuzc/clean_07-18-2020-18%3A37%3A01.csv', 'https://storage.googleapis.com/outliers/vwmmsxanip/kstuzc/primary_07-18-2020-18%3A37%3A01.csv']\n",
      "['https://storage.googleapis.com/outliers/vwmmsxanip/kstuzc/original_07-18-2020-18%3A28%3A39.csv', 'https://storage.googleapis.com/outliers/vwmmsxanip/kstuzc/original_07-18-2020-18%3A37%3A00.csv', 'https://storage.googleapis.com/outliers/vwmmsxanip/kstuzc/clean_07-18-2020-18%3A37%3A01.csv', 'https://storage.googleapis.com/outliers/vwmmsxanip/kstuzc/primary_07-18-2020-18%3A37%3A01.csv']\n",
      "['https://storage.googleapis.com/outliers/vwmmsxanip/kstuzc/original_07-18-2020-18%3A28%3A39.csv', 'https://storage.googleapis.com/outliers/vwmmsxanip/kstuzc/original_07-18-2020-18%3A37%3A00.csv', 'https://storage.googleapis.com/outliers/vwmmsxanip/kstuzc/clean_07-18-2020-18%3A37%3A01.csv', 'https://storage.googleapis.com/outliers/vwmmsxanip/kstuzc/primary_07-18-2020-18%3A37%3A01.csv']\n",
      "['https://storage.googleapis.com/outliers/vwmmsxanip/kstuzc/original_07-18-2020-18%3A28%3A39.csv', 'https://storage.googleapis.com/outliers/vwmmsxanip/kstuzc/original_07-18-2020-18%3A37%3A00.csv', 'https://storage.googleapis.com/outliers/vwmmsxanip/kstuzc/clean_07-18-2020-18%3A37%3A01.csv', 'https://storage.googleapis.com/outliers/vwmmsxanip/kstuzc/primary_07-18-2020-18%3A37%3A01.csv']\n",
      "['https://storage.googleapis.com/outliers/vwmmsxanip/kstuzc/original_07-18-2020-18%3A28%3A39.csv', 'https://storage.googleapis.com/outliers/vwmmsxanip/kstuzc/original_07-18-2020-18%3A37%3A00.csv', 'https://storage.googleapis.com/outliers/vwmmsxanip/kstuzc/clean_07-18-2020-18%3A37%3A01.csv', 'https://storage.googleapis.com/outliers/vwmmsxanip/kstuzc/primary_07-18-2020-18%3A37%3A01.csv']\n",
      "['https://storage.googleapis.com/outliers/vwmmsxanip/kstuzc/original_07-18-2020-18%3A28%3A39.csv', 'https://storage.googleapis.com/outliers/vwmmsxanip/kstuzc/original_07-18-2020-18%3A37%3A00.csv', 'https://storage.googleapis.com/outliers/vwmmsxanip/kstuzc/clean_07-18-2020-18%3A37%3A01.csv', 'https://storage.googleapis.com/outliers/vwmmsxanip/kstuzc/primary_07-18-2020-18%3A37%3A01.csv']\n",
      "['https://storage.googleapis.com/outliers/vwmmsxanip/kstuzc/original_07-18-2020-18%3A28%3A39.csv', 'https://storage.googleapis.com/outliers/vwmmsxanip/kstuzc/original_07-18-2020-18%3A37%3A00.csv', 'https://storage.googleapis.com/outliers/vwmmsxanip/kstuzc/clean_07-18-2020-18%3A37%3A01.csv', 'https://storage.googleapis.com/outliers/vwmmsxanip/kstuzc/primary_07-18-2020-18%3A37%3A01.csv']\n"
     ]
    }
   ],
   "source": [
    "urls = saved_file_name = backup.save_locally_and_update(merged_df, dfs, cleaning_dfs)\n",
    "for url in urls:\n",
    "    print(url)"
   ]
  },
  {
   "cell_type": "markdown",
   "metadata": {},
   "source": [
    "## 6.2) Diff backup"
   ]
  },
  {
   "cell_type": "code",
   "execution_count": 79,
   "metadata": {},
   "outputs": [
    {
     "name": "stdout",
     "output_type": "stream",
     "text": [
      "https://storage.googleapis.com/outliers/vwmmsxanip/kstuzc/primary_07-18-2020-18%3A46%3A10.csv\n"
     ]
    }
   ],
   "source": [
    "urls = saved_file_name = backup.save_locally_and_update(merged_df)\n",
    "for url in urls:\n",
    "    print(url)"
   ]
  },
  {
   "cell_type": "code",
   "execution_count": null,
   "metadata": {},
   "outputs": [],
   "source": [
    "merged_df."
   ]
  }
 ],
 "metadata": {
  "kernelspec": {
   "display_name": "Python 3",
   "language": "python",
   "name": "python3"
  },
  "language_info": {
   "codemirror_mode": {
    "name": "ipython",
    "version": 3
   },
   "file_extension": ".py",
   "mimetype": "text/x-python",
   "name": "python",
   "nbconvert_exporter": "python",
   "pygments_lexer": "ipython3",
   "version": "3.7.5"
  }
 },
 "nbformat": 4,
 "nbformat_minor": 4
}
